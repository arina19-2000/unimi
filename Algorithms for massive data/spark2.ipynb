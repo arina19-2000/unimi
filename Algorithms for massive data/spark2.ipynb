{
  "cells": [
    {
      "cell_type": "markdown",
      "metadata": {
        "id": "view-in-github",
        "colab_type": "text"
      },
      "source": [
        "<a href=\"https://colab.research.google.com/github/arina19-2000/unimi/blob/main/Algorithms%20for%20massive%20data/spark2.ipynb\" target=\"_parent\"><img src=\"https://colab.research.google.com/assets/colab-badge.svg\" alt=\"Open In Colab\"/></a>"
      ]
    },
    {
      "cell_type": "markdown",
      "metadata": {
        "id": "4AEP-sxUGH-q"
      },
      "source": [
        "## **Market Basket Analysis Project**"
      ]
    },
    {
      "cell_type": "code",
      "execution_count": 1,
      "metadata": {
        "colab": {
          "base_uri": "https://localhost:8080/",
          "height": 219
        },
        "id": "KSPB5V3aFNlO",
        "outputId": "1daf4d71-3559-4b7f-ff0e-4f57b947983d"
      },
      "outputs": [
        {
          "output_type": "execute_result",
          "data": {
            "text/plain": [
              "<pyspark.sql.session.SparkSession at 0x7e75e44bd4b0>"
            ],
            "text/html": [
              "\n",
              "            <div>\n",
              "                <p><b>SparkSession - in-memory</b></p>\n",
              "                \n",
              "        <div>\n",
              "            <p><b>SparkContext</b></p>\n",
              "\n",
              "            <p><a href=\"http://a2745ebca9cf:4040\">Spark UI</a></p>\n",
              "\n",
              "            <dl>\n",
              "              <dt>Version</dt>\n",
              "                <dd><code>v3.1.1</code></dd>\n",
              "              <dt>Master</dt>\n",
              "                <dd><code>local[*]</code></dd>\n",
              "              <dt>AppName</dt>\n",
              "                <dd><code>pyspark-shell</code></dd>\n",
              "            </dl>\n",
              "        </div>\n",
              "        \n",
              "            </div>\n",
              "        "
            ]
          },
          "metadata": {},
          "execution_count": 1
        }
      ],
      "source": [
        "!apt-get install openjdk-8-jdk-headless -qq > /dev/null\n",
        "!wget -q http://archive.apache.org/dist/spark/spark-3.1.1/spark-3.1.1-bin-hadoop3.2.tgz\n",
        "!tar xf spark-3.1.1-bin-hadoop3.2.tgz\n",
        "!pip install -q findspark\n",
        "\n",
        "import os\n",
        "os.environ[\"JAVA_HOME\"] = \"/usr/lib/jvm/java-8-openjdk-amd64\"\n",
        "os.environ[\"SPARK_HOME\"] = \"/content/spark-3.1.1-bin-hadoop3.2\"\n",
        "\n",
        "import findspark\n",
        "findspark.init()\n",
        "from pyspark.sql import SparkSession\n",
        "spark = SparkSession.builder.master(\"local[*]\").getOrCreate()\n",
        "spark.conf.set(\"spark.sql.repl.eagerEval.enabled\", True)\n",
        "spark"
      ]
    },
    {
      "cell_type": "code",
      "execution_count": 2,
      "metadata": {
        "id": "Fzylca-uF-Z0"
      },
      "outputs": [],
      "source": [
        "import pyspark\n",
        "sc = spark.sparkContext"
      ]
    },
    {
      "cell_type": "code",
      "execution_count": 3,
      "metadata": {
        "colab": {
          "base_uri": "https://localhost:8080/"
        },
        "id": "BWusrCtxGAdy",
        "outputId": "866b10dd-3630-4fe0-f556-8a7c37ddbee8"
      },
      "outputs": [
        {
          "output_type": "stream",
          "name": "stdout",
          "text": [
            "Dataset URL: https://www.kaggle.com/datasets/asaniczka/1-3m-linkedin-jobs-and-skills-2024\n",
            "License(s): ODC Attribution License (ODC-By)\n",
            "job_skills.csv.zip: Skipping, found more recently modified local copy (use --force to force download)\n"
          ]
        }
      ],
      "source": [
        "os.environ['KAGGLE_USERNAME'] = \"xxx\"\n",
        "os.environ['KAGGLE_KEY'] = \"xxx\"\n",
        "!kaggle datasets download -d asaniczka/1-3m-linkedin-jobs-and-skills-2024 -f job_skills.csv"
      ]
    },
    {
      "cell_type": "code",
      "execution_count": 4,
      "metadata": {
        "colab": {
          "base_uri": "https://localhost:8080/"
        },
        "id": "woSGEIfSGAgJ",
        "outputId": "ffa8c773-8777-458d-ee57-b9088d19b457"
      },
      "outputs": [
        {
          "output_type": "stream",
          "name": "stdout",
          "text": [
            "Archive:  /content/job_skills.csv.zip\n",
            "replace data/job_skills.csv? [y]es, [n]o, [A]ll, [N]one, [r]ename: y\n",
            "  inflating: data/job_skills.csv     \n"
          ]
        }
      ],
      "source": [
        "!unzip /content/job_skills.csv.zip -d data"
      ]
    },
    {
      "cell_type": "code",
      "execution_count": 5,
      "metadata": {
        "colab": {
          "base_uri": "https://localhost:8080/"
        },
        "id": "3bQrbpnVGAjs",
        "outputId": "576d0eef-ca59-44f7-8587-a257a89ee383"
      },
      "outputs": [
        {
          "output_type": "stream",
          "name": "stdout",
          "text": [
            "+--------------------+--------------------+\n",
            "|            job_link|          job_skills|\n",
            "+--------------------+--------------------+\n",
            "|https://www.linke...|Building Custodia...|\n",
            "|https://www.linke...|Customer service,...|\n",
            "|https://www.linke...|Applied Behavior ...|\n",
            "|https://www.linke...|Electrical Engine...|\n",
            "|https://www.linke...|Electrical Assemb...|\n",
            "|https://www.linke...|Access Control, V...|\n",
            "|https://www.linke...|Consultation, Sup...|\n",
            "|https://www.linke...|Veterinary Recept...|\n",
            "|https://www.linke...|Optical Inspectio...|\n",
            "|https://www.linke...|HVAC, troubleshoo...|\n",
            "|https://www.linke...|Host/Server Assis...|\n",
            "|https://www.linke...|Apartment mainten...|\n",
            "|https://www.linke...|Fiber Optic Cable...|\n",
            "|https://www.linke...|CT Technologist, ...|\n",
            "|https://ca.linked...|SAP, DRMIS, Data ...|\n",
            "|https://www.linke...|Debt and equity o...|\n",
            "|https://ca.linked...|Biomedical Engine...|\n",
            "|https://www.linke...|Laboratory Techni...|\n",
            "|https://www.linke...|Program Managemen...|\n",
            "|https://www.linke...|Hiring, Training,...|\n",
            "+--------------------+--------------------+\n",
            "only showing top 20 rows\n",
            "\n"
          ]
        }
      ],
      "source": [
        "df = spark.read.options(header=True).csv('data/job_skills.csv')\n",
        "df.show()"
      ]
    },
    {
      "cell_type": "code",
      "execution_count": 6,
      "metadata": {
        "colab": {
          "base_uri": "https://localhost:8080/",
          "height": 156
        },
        "id": "ea6-kSnBGDnI",
        "outputId": "d3ef2b8e-0ecf-44a3-923f-7b761b6a2899"
      },
      "outputs": [
        {
          "output_type": "execute_result",
          "data": {
            "text/plain": [
              "+-------+--------------------+-------------------------------+\n",
              "|summary|            job_link|                     job_skills|\n",
              "+-------+--------------------+-------------------------------+\n",
              "|  count|             1294374|                        1294374|\n",
              "|   mean|                null|                           null|\n",
              "| stddev|                null|                           null|\n",
              "|    min|https://ae.linked...|           \"* Maintenance, *...|\n",
              "|    max|https://za.linked...|志愿服务, 沟通, 陪伴, 临终服...|\n",
              "+-------+--------------------+-------------------------------+"
            ],
            "text/html": [
              "<table border='1'>\n",
              "<tr><th>summary</th><th>job_link</th><th>job_skills</th></tr>\n",
              "<tr><td>count</td><td>1294374</td><td>1294374</td></tr>\n",
              "<tr><td>mean</td><td>null</td><td>null</td></tr>\n",
              "<tr><td>stddev</td><td>null</td><td>null</td></tr>\n",
              "<tr><td>min</td><td>https://ae.linked...</td><td>&quot;* Maintenance, *...</td></tr>\n",
              "<tr><td>max</td><td>https://za.linked...</td><td>志愿服务, 沟通, 陪伴, 临终服...</td></tr>\n",
              "</table>\n"
            ]
          },
          "metadata": {},
          "execution_count": 6
        }
      ],
      "source": [
        "df = df.dropna()\n",
        "df.describe()"
      ]
    },
    {
      "cell_type": "markdown",
      "metadata": {
        "id": "L_QWeBOFIVZ4"
      },
      "source": [
        "## Data exploration"
      ]
    },
    {
      "cell_type": "code",
      "execution_count": 7,
      "metadata": {
        "id": "yUr_GtuQIbGT",
        "colab": {
          "base_uri": "https://localhost:8080/",
          "height": 531
        },
        "outputId": "69532831-39ce-4bc1-d9f3-ee2cbca8efc7"
      },
      "outputs": [
        {
          "output_type": "stream",
          "name": "stdout",
          "text": [
            "3387715\n"
          ]
        },
        {
          "output_type": "execute_result",
          "data": {
            "text/plain": [
              "+--------------------+------+\n",
              "|          job_skills| count|\n",
              "+--------------------+------+\n",
              "|       Communication|356365|\n",
              "|            Teamwork|223000|\n",
              "|          Leadership|162921|\n",
              "| Communication sk...|104700|\n",
              "|    Customer service|104112|\n",
              "|     Problem Solving|101727|\n",
              "|    Customer Service| 93458|\n",
              "|      Problemsolving| 92206|\n",
              "|       Collaboration| 86620|\n",
              "|            Training| 82865|\n",
              "| Communication Sk...| 77267|\n",
              "| Attention to detail| 75147|\n",
              "|     Time management| 72193|\n",
              "|     Time Management| 69638|\n",
              "| Microsoft Office...| 69557|\n",
              "|  Project Management| 67227|\n",
              "|               Sales| 65508|\n",
              "|          Scheduling| 63264|\n",
              "|    Customer service| 62046|\n",
              "|             Nursing| 60250|\n",
              "+--------------------+------+\n",
              "only showing top 20 rows"
            ],
            "text/html": [
              "<table border='1'>\n",
              "<tr><th>job_skills</th><th>count</th></tr>\n",
              "<tr><td> Communication</td><td>356365</td></tr>\n",
              "<tr><td> Teamwork</td><td>223000</td></tr>\n",
              "<tr><td> Leadership</td><td>162921</td></tr>\n",
              "<tr><td> Communication sk...</td><td>104700</td></tr>\n",
              "<tr><td> Customer service</td><td>104112</td></tr>\n",
              "<tr><td> Problem Solving</td><td>101727</td></tr>\n",
              "<tr><td> Customer Service</td><td>93458</td></tr>\n",
              "<tr><td> Problemsolving</td><td>92206</td></tr>\n",
              "<tr><td> Collaboration</td><td>86620</td></tr>\n",
              "<tr><td> Training</td><td>82865</td></tr>\n",
              "<tr><td> Communication Sk...</td><td>77267</td></tr>\n",
              "<tr><td> Attention to detail</td><td>75147</td></tr>\n",
              "<tr><td> Time management</td><td>72193</td></tr>\n",
              "<tr><td> Time Management</td><td>69638</td></tr>\n",
              "<tr><td> Microsoft Office...</td><td>69557</td></tr>\n",
              "<tr><td> Project Management</td><td>67227</td></tr>\n",
              "<tr><td> Sales</td><td>65508</td></tr>\n",
              "<tr><td> Scheduling</td><td>63264</td></tr>\n",
              "<tr><td>Customer service</td><td>62046</td></tr>\n",
              "<tr><td>Nursing</td><td>60250</td></tr>\n",
              "</table>\n",
              "only showing top 20 rows\n"
            ]
          },
          "metadata": {},
          "execution_count": 7
        }
      ],
      "source": [
        "from pyspark.sql.functions import split, explode, col, lower, trim, when, count\n",
        "\n",
        "skills_exploded = df.withColumn(\"skills_list\", split(col(\"job_skills\"), \",\")) \\\n",
        "                   .withColumn(\"skill\", explode(col(\"skills_list\"))) \\\n",
        "                   .groupBy(\"skill\") \\\n",
        "                   .agg(count(\"*\").alias(\"count\")) \\\n",
        "                   .withColumnRenamed(\"skill\", \"job_skills\")\n",
        "\n",
        "skills = skills_exploded.orderBy(col(\"count\").desc())\n",
        "\n",
        "row_count = skills.count()\n",
        "print(row_count)\n",
        "skills"
      ]
    },
    {
      "cell_type": "code",
      "source": [
        "skills_exploded = df.withColumn(\"skills_list\", split(col(\"job_skills\"), \",\")) \\\n",
        "                  .withColumn(\"skill\", explode(col(\"skills_list\")))\n",
        "\n",
        "# Then apply lower function to the exploded skill column\n",
        "skills_exploded = skills_exploded.withColumn(\"skill\", lower(col(\"skill\")))\n",
        "\n",
        "# Rest of the code for grouping, aggregation, etc. remains the same\n",
        "skills_exploded = skills_exploded.groupBy(\"skill\") \\\n",
        "                  .agg(count(\"*\").alias(\"count\")) \\\n",
        "                  .withColumnRenamed(\"skill\", \"job_skills\")\n",
        "\n",
        "skills_low = skills_exploded.orderBy(col(\"count\").desc())\n",
        "skills_low"
      ],
      "metadata": {
        "id": "O9J49XOKySjZ"
      },
      "execution_count": 12,
      "outputs": []
    },
    {
      "cell_type": "code",
      "source": [
        "skills_low"
      ],
      "metadata": {
        "colab": {
          "base_uri": "https://localhost:8080/",
          "height": 514
        },
        "id": "NBdmVBMsix0l",
        "outputId": "726672c0-c00b-4e87-93e5-14e75b35f9a6"
      },
      "execution_count": 13,
      "outputs": [
        {
          "output_type": "execute_result",
          "data": {
            "text/plain": [
              "+--------------------+------+\n",
              "|          job_skills| count|\n",
              "+--------------------+------+\n",
              "|       communication|358097|\n",
              "|            teamwork|224315|\n",
              "|    customer service|198670|\n",
              "| communication sk...|182837|\n",
              "|          leadership|163630|\n",
              "|     problem solving|148428|\n",
              "|     time management|142492|\n",
              "| attention to detail|133549|\n",
              "|      problemsolving|128969|\n",
              "|  project management|104712|\n",
              "| interpersonal sk...| 99391|\n",
              "|        patient care| 96770|\n",
              "|       collaboration| 86932|\n",
              "|            training| 83324|\n",
              "|    customer service| 79363|\n",
              "|       data analysis| 79056|\n",
              "| organizational s...| 75079|\n",
              "| microsoft office...| 71593|\n",
              "| inventory manage...| 70145|\n",
              "|               sales| 65766|\n",
              "+--------------------+------+\n",
              "only showing top 20 rows"
            ],
            "text/html": [
              "<table border='1'>\n",
              "<tr><th>job_skills</th><th>count</th></tr>\n",
              "<tr><td> communication</td><td>358097</td></tr>\n",
              "<tr><td> teamwork</td><td>224315</td></tr>\n",
              "<tr><td> customer service</td><td>198670</td></tr>\n",
              "<tr><td> communication sk...</td><td>182837</td></tr>\n",
              "<tr><td> leadership</td><td>163630</td></tr>\n",
              "<tr><td> problem solving</td><td>148428</td></tr>\n",
              "<tr><td> time management</td><td>142492</td></tr>\n",
              "<tr><td> attention to detail</td><td>133549</td></tr>\n",
              "<tr><td> problemsolving</td><td>128969</td></tr>\n",
              "<tr><td> project management</td><td>104712</td></tr>\n",
              "<tr><td> interpersonal sk...</td><td>99391</td></tr>\n",
              "<tr><td> patient care</td><td>96770</td></tr>\n",
              "<tr><td> collaboration</td><td>86932</td></tr>\n",
              "<tr><td> training</td><td>83324</td></tr>\n",
              "<tr><td>customer service</td><td>79363</td></tr>\n",
              "<tr><td> data analysis</td><td>79056</td></tr>\n",
              "<tr><td> organizational s...</td><td>75079</td></tr>\n",
              "<tr><td> microsoft office...</td><td>71593</td></tr>\n",
              "<tr><td> inventory manage...</td><td>70145</td></tr>\n",
              "<tr><td> sales</td><td>65766</td></tr>\n",
              "</table>\n",
              "only showing top 20 rows\n"
            ]
          },
          "metadata": {},
          "execution_count": 13
        }
      ]
    },
    {
      "cell_type": "markdown",
      "source": [
        "It appears that some of the counts were adjusted because of the case switch - now completing the same operation on the whole df."
      ],
      "metadata": {
        "id": "akx_hoIE0NAy"
      }
    },
    {
      "cell_type": "code",
      "source": [
        "from pyspark.sql.types import StringType\n",
        "\n",
        "for col_name in df.columns:\n",
        "    if isinstance(df.schema[col_name].dataType, StringType):\n",
        "        df = df.withColumn(col_name, lower(col(col_name)))\n",
        "\n",
        "df = df.withColumn(\"job_skills\", split(col(\"job_skills\"), \",\\s*\"))\n"
      ],
      "metadata": {
        "id": "P4HTmb5awV0n"
      },
      "execution_count": 9,
      "outputs": []
    },
    {
      "cell_type": "code",
      "source": [
        "df"
      ],
      "metadata": {
        "colab": {
          "base_uri": "https://localhost:8080/",
          "height": 514
        },
        "id": "8W32Sf06CjM6",
        "outputId": "884cf705-1276-4131-fb78-8e1995991692"
      },
      "execution_count": 10,
      "outputs": [
        {
          "output_type": "execute_result",
          "data": {
            "text/plain": [
              "+--------------------+--------------------+\n",
              "|            job_link|          job_skills|\n",
              "+--------------------+--------------------+\n",
              "|https://www.linke...|[building custodi...|\n",
              "|https://www.linke...|[customer service...|\n",
              "|https://www.linke...|[applied behavior...|\n",
              "|https://www.linke...|[electrical engin...|\n",
              "|https://www.linke...|[electrical assem...|\n",
              "|https://www.linke...|[access control, ...|\n",
              "|https://www.linke...|[consultation, su...|\n",
              "|https://www.linke...|[veterinary recep...|\n",
              "|https://www.linke...|[optical inspecti...|\n",
              "|https://www.linke...|[hvac, troublesho...|\n",
              "|https://www.linke...|[host/server assi...|\n",
              "|https://www.linke...|[apartment mainte...|\n",
              "|https://www.linke...|[fiber optic cabl...|\n",
              "|https://www.linke...|[ct technologist,...|\n",
              "|https://ca.linked...|[sap, drmis, data...|\n",
              "|https://www.linke...|[debt and equity ...|\n",
              "|https://ca.linked...|[biomedical engin...|\n",
              "|https://www.linke...|[laboratory techn...|\n",
              "|https://www.linke...|[program manageme...|\n",
              "|https://www.linke...|[hiring, training...|\n",
              "+--------------------+--------------------+\n",
              "only showing top 20 rows"
            ],
            "text/html": [
              "<table border='1'>\n",
              "<tr><th>job_link</th><th>job_skills</th></tr>\n",
              "<tr><td>https://www.linke...</td><td>[building custodi...</td></tr>\n",
              "<tr><td>https://www.linke...</td><td>[customer service...</td></tr>\n",
              "<tr><td>https://www.linke...</td><td>[applied behavior...</td></tr>\n",
              "<tr><td>https://www.linke...</td><td>[electrical engin...</td></tr>\n",
              "<tr><td>https://www.linke...</td><td>[electrical assem...</td></tr>\n",
              "<tr><td>https://www.linke...</td><td>[access control, ...</td></tr>\n",
              "<tr><td>https://www.linke...</td><td>[consultation, su...</td></tr>\n",
              "<tr><td>https://www.linke...</td><td>[veterinary recep...</td></tr>\n",
              "<tr><td>https://www.linke...</td><td>[optical inspecti...</td></tr>\n",
              "<tr><td>https://www.linke...</td><td>[hvac, troublesho...</td></tr>\n",
              "<tr><td>https://www.linke...</td><td>[host/server assi...</td></tr>\n",
              "<tr><td>https://www.linke...</td><td>[apartment mainte...</td></tr>\n",
              "<tr><td>https://www.linke...</td><td>[fiber optic cabl...</td></tr>\n",
              "<tr><td>https://www.linke...</td><td>[ct technologist,...</td></tr>\n",
              "<tr><td>https://ca.linked...</td><td>[sap, drmis, data...</td></tr>\n",
              "<tr><td>https://www.linke...</td><td>[debt and equity ...</td></tr>\n",
              "<tr><td>https://ca.linked...</td><td>[biomedical engin...</td></tr>\n",
              "<tr><td>https://www.linke...</td><td>[laboratory techn...</td></tr>\n",
              "<tr><td>https://www.linke...</td><td>[program manageme...</td></tr>\n",
              "<tr><td>https://www.linke...</td><td>[hiring, training...</td></tr>\n",
              "</table>\n",
              "only showing top 20 rows\n"
            ]
          },
          "metadata": {},
          "execution_count": 10
        }
      ]
    },
    {
      "cell_type": "markdown",
      "metadata": {
        "id": "ax7-fn4qGFFO"
      },
      "source": [
        "## **Sampling**"
      ]
    },
    {
      "cell_type": "code",
      "execution_count": 11,
      "metadata": {
        "id": "oyecD4VcI-4M"
      },
      "outputs": [],
      "source": [
        "import pyspark.sql.functions as F\n",
        "\n",
        "split_ = df.sample(False,0.01,seed=42)\n",
        "#split = skills.sample(False,0.02,seed=42)"
      ]
    },
    {
      "cell_type": "code",
      "execution_count": 12,
      "metadata": {
        "colab": {
          "base_uri": "https://localhost:8080/"
        },
        "id": "O8k-OzRZI_WA",
        "outputId": "c1c73fad-eac1-44ed-94d8-794cf38232a2"
      },
      "outputs": [
        {
          "output_type": "stream",
          "name": "stdout",
          "text": [
            "+--------------------+--------------------+\n",
            "|            job_link|          job_skills|\n",
            "+--------------------+--------------------+\n",
            "|https://www.linke...|[employee trainin...|\n",
            "|https://www.linke...|[aviation, englis...|\n",
            "|https://www.linke...|[electronic techn...|\n",
            "|https://ca.linked...|[warranty service...|\n",
            "|https://uk.linked...|[flight instructo...|\n",
            "|https://www.linke...|[project manageme...|\n",
            "|https://www.linke...|[basketball coach...|\n",
            "|https://www.linke...|[litigation, juri...|\n",
            "|https://www.linke...|[accounting, audi...|\n",
            "|https://www.linke...|[nursing, patient...|\n",
            "|https://uk.linked...|[commercial leade...|\n",
            "|https://www.linke...|[ob/gyn, epic emr...|\n",
            "|https://www.linke...|[guest service, c...|\n",
            "|https://www.linke...|[oracle, accounti...|\n",
            "|https://www.linke...|[accounting, audi...|\n",
            "|https://www.linke...|[scoping, buyout,...|\n",
            "|https://www.linke...|[mobile technicia...|\n",
            "|https://www.linke...|[travel planning ...|\n",
            "|https://ca.linked...|[computer enginee...|\n",
            "|https://www.linke...|[tax accounting, ...|\n",
            "+--------------------+--------------------+\n",
            "only showing top 20 rows\n",
            "\n"
          ]
        }
      ],
      "source": [
        "split_.show()"
      ]
    },
    {
      "cell_type": "code",
      "execution_count": 13,
      "metadata": {
        "colab": {
          "base_uri": "https://localhost:8080/",
          "height": 156
        },
        "id": "msR7DucxJVbL",
        "outputId": "822767be-5764-41c0-ecae-052a33af6965"
      },
      "outputs": [
        {
          "output_type": "execute_result",
          "data": {
            "text/plain": [
              "+-------+--------------------+\n",
              "|summary|            job_link|\n",
              "+-------+--------------------+\n",
              "|  count|               13057|\n",
              "|   mean|                null|\n",
              "| stddev|                null|\n",
              "|    min|https://au.linked...|\n",
              "|    max|https://www.linke...|\n",
              "+-------+--------------------+"
            ],
            "text/html": [
              "<table border='1'>\n",
              "<tr><th>summary</th><th>job_link</th></tr>\n",
              "<tr><td>count</td><td>13057</td></tr>\n",
              "<tr><td>mean</td><td>null</td></tr>\n",
              "<tr><td>stddev</td><td>null</td></tr>\n",
              "<tr><td>min</td><td>https://au.linked...</td></tr>\n",
              "<tr><td>max</td><td>https://www.linke...</td></tr>\n",
              "</table>\n"
            ]
          },
          "metadata": {},
          "execution_count": 13
        }
      ],
      "source": [
        "split_.describe()"
      ]
    },
    {
      "cell_type": "markdown",
      "metadata": {
        "id": "q7GtnwutKcwL"
      },
      "source": [
        "### Forming baskets"
      ]
    },
    {
      "cell_type": "code",
      "execution_count": 14,
      "metadata": {
        "colab": {
          "base_uri": "https://localhost:8080/"
        },
        "id": "6vwOLpzPJVg8",
        "outputId": "1fe0bd6e-7db8-4aae-a05a-4423b8166c15"
      },
      "outputs": [
        {
          "output_type": "execute_result",
          "data": {
            "text/plain": [
              "[Row(job_skills=['employee training', 'food safety', 'inventory management', 'team management', 'kitchen supervision', 'food quality control', 'food safety', 'cost control', 'menu management', 'hiring', 'staff scheduling', 'sales management', 'profit optimization', 'customer service', 'guest experience', 'service area organization', 'teamwork', 'hsd or ged', 'passion for helping and serving others', 'leadership experience', 'motivation', 'development of others', 'commitment to excellence', 'commitment to safety', 'strong customer service', 'support focus', 'effective communication', 'anticipating customer needs', 'problem solving', 'decisionmaking']),\n",
              " Row(job_skills=['aviation', 'english', 'faa commercial pilot license', 'ifr', 'sel', 'high performance', 'complex', 'second class medical', 'fcc restricted radiotelephone operator permit', 'current passport', \"valid driver's license\", '401k', 'medical', 'dental', 'vision', 'shortterm disability', 'longterm disability', 'life insurance', 'pilot medical reimbursement', 'pilot uniforms', 'jeppesen manuals', 'paid vacation', 'paid training', 'indoc', 'flight safety', 'aircraft specific training', 'inhouse checkride', 'company check pilot']),\n",
              " Row(job_skills=['electronic technician', 'troubleshooting', 'electromechanical', 'production', 'aftermarket repair', 'test equipment', 'schematics', 'engineering', 'manufacturing', 'calibration', 'measuring instruments', 'computer navigation', 'online documents', 'technical information', 'written communication', 'verbal communication', '3+ years related experience', 'lifting', 'carrying', 'pushing', 'pulling', 'hazardous materials', 'high school diploma or ged', '2year technical degree or certificate', 'military experience', 'team oriented environment', 'excellent attendance', 'error free products', 'meeting job requirements', 'overtime']),\n",
              " Row(job_skills=['warranty service', 'technical support', 'project management', 'assembly/disassembly', 'modification implementation', 'fleet configuration monitoring', 'quality standards', 'ehs compliance', 'tool management', 'technical specifications', 'electrical diagrams', 'railway experience', 'english proficiency', 'communication skills', 'customer focus', 'ethics and compliance', 'computer literacy', 'software proficiency']),\n",
              " Row(job_skills=['flight instructor', 'multiengine cpl and ir programme', 'da42 and da42 fnpt ii simulators', 'ato training manual', 'academy published schedule/programme', 'ato operations manual', 'uk partfcl licence', 'uk partmed medical certificate', 'sep (land)', 'night', 'cpl', 'instrument', 'mep (land)', 'icao level 6 english language proficiency', 'minimum of 500 hours flight time', 'minimum 200 hours instructional time', 'minimum 30 hours pilot in command mep (land)'])]"
            ]
          },
          "metadata": {},
          "execution_count": 14
        }
      ],
      "source": [
        "rdd = split_.select('job_skills').rdd\n",
        "rdd.take(5)"
      ]
    },
    {
      "cell_type": "code",
      "execution_count": 15,
      "metadata": {
        "colab": {
          "base_uri": "https://localhost:8080/"
        },
        "id": "hmd6L6acKkps",
        "outputId": "446b7626-6f94-4467-ae53-8b8d3a74d8ed"
      },
      "outputs": [
        {
          "output_type": "execute_result",
          "data": {
            "text/plain": [
              "[['employee training',\n",
              "  'food safety',\n",
              "  'inventory management',\n",
              "  'team management',\n",
              "  'kitchen supervision',\n",
              "  'food quality control',\n",
              "  'food safety',\n",
              "  'cost control',\n",
              "  'menu management',\n",
              "  'hiring',\n",
              "  'staff scheduling',\n",
              "  'sales management',\n",
              "  'profit optimization',\n",
              "  'customer service',\n",
              "  'guest experience',\n",
              "  'service area organization',\n",
              "  'teamwork',\n",
              "  'hsd or ged',\n",
              "  'passion for helping and serving others',\n",
              "  'leadership experience',\n",
              "  'motivation',\n",
              "  'development of others',\n",
              "  'commitment to excellence',\n",
              "  'commitment to safety',\n",
              "  'strong customer service',\n",
              "  'support focus',\n",
              "  'effective communication',\n",
              "  'anticipating customer needs',\n",
              "  'problem solving',\n",
              "  'decisionmaking']]"
            ]
          },
          "metadata": {},
          "execution_count": 15
        }
      ],
      "source": [
        "rdd2 = rdd.map(lambda x: x['job_skills'])\n",
        "rdd2.take(1)"
      ]
    },
    {
      "cell_type": "code",
      "execution_count": 16,
      "metadata": {
        "colab": {
          "base_uri": "https://localhost:8080/"
        },
        "id": "FKJTMjwNKnDY",
        "outputId": "85f8825d-e3e6-4e4f-c657-3383dd6bebfd"
      },
      "outputs": [
        {
          "output_type": "execute_result",
          "data": {
            "text/plain": [
              "[['employee training',\n",
              "  'food safety',\n",
              "  'inventory management',\n",
              "  'team management',\n",
              "  'kitchen supervision',\n",
              "  'food quality control',\n",
              "  'food safety',\n",
              "  'cost control',\n",
              "  'menu management',\n",
              "  'hiring',\n",
              "  'staff scheduling',\n",
              "  'sales management',\n",
              "  'profit optimization',\n",
              "  'customer service',\n",
              "  'guest experience',\n",
              "  'service area organization',\n",
              "  'teamwork',\n",
              "  'hsd or ged',\n",
              "  'passion for helping and serving others',\n",
              "  'leadership experience',\n",
              "  'motivation',\n",
              "  'development of others',\n",
              "  'commitment to excellence',\n",
              "  'commitment to safety',\n",
              "  'strong customer service',\n",
              "  'support focus',\n",
              "  'effective communication',\n",
              "  'anticipating customer needs',\n",
              "  'problem solving',\n",
              "  'decisionmaking'],\n",
              " ['aviation',\n",
              "  'english',\n",
              "  'faa commercial pilot license',\n",
              "  'ifr',\n",
              "  'sel',\n",
              "  'high performance',\n",
              "  'complex',\n",
              "  'second class medical',\n",
              "  'fcc restricted radiotelephone operator permit',\n",
              "  'current passport',\n",
              "  \"valid driver's license\",\n",
              "  '401k',\n",
              "  'medical',\n",
              "  'dental',\n",
              "  'vision',\n",
              "  'shortterm disability',\n",
              "  'longterm disability',\n",
              "  'life insurance',\n",
              "  'pilot medical reimbursement',\n",
              "  'pilot uniforms',\n",
              "  'jeppesen manuals',\n",
              "  'paid vacation',\n",
              "  'paid training',\n",
              "  'indoc',\n",
              "  'flight safety',\n",
              "  'aircraft specific training',\n",
              "  'inhouse checkride',\n",
              "  'company check pilot'],\n",
              " ['electronic technician',\n",
              "  'troubleshooting',\n",
              "  'electromechanical',\n",
              "  'production',\n",
              "  'aftermarket repair',\n",
              "  'test equipment',\n",
              "  'schematics',\n",
              "  'engineering',\n",
              "  'manufacturing',\n",
              "  'calibration',\n",
              "  'measuring instruments',\n",
              "  'computer navigation',\n",
              "  'online documents',\n",
              "  'technical information',\n",
              "  'written communication',\n",
              "  'verbal communication',\n",
              "  '3+ years related experience',\n",
              "  'lifting',\n",
              "  'carrying',\n",
              "  'pushing',\n",
              "  'pulling',\n",
              "  'hazardous materials',\n",
              "  'high school diploma or ged',\n",
              "  '2year technical degree or certificate',\n",
              "  'military experience',\n",
              "  'team oriented environment',\n",
              "  'excellent attendance',\n",
              "  'error free products',\n",
              "  'meeting job requirements',\n",
              "  'overtime'],\n",
              " ['warranty service',\n",
              "  'technical support',\n",
              "  'project management',\n",
              "  'assembly/disassembly',\n",
              "  'modification implementation',\n",
              "  'fleet configuration monitoring',\n",
              "  'quality standards',\n",
              "  'ehs compliance',\n",
              "  'tool management',\n",
              "  'technical specifications',\n",
              "  'electrical diagrams',\n",
              "  'railway experience',\n",
              "  'english proficiency',\n",
              "  'communication skills',\n",
              "  'customer focus',\n",
              "  'ethics and compliance',\n",
              "  'computer literacy',\n",
              "  'software proficiency'],\n",
              " ['flight instructor',\n",
              "  'multiengine cpl and ir programme',\n",
              "  'da42 and da42 fnpt ii simulators',\n",
              "  'ato training manual',\n",
              "  'academy published schedule/programme',\n",
              "  'ato operations manual',\n",
              "  'uk partfcl licence',\n",
              "  'uk partmed medical certificate',\n",
              "  'sep (land)',\n",
              "  'night',\n",
              "  'cpl',\n",
              "  'instrument',\n",
              "  'mep (land)',\n",
              "  'icao level 6 english language proficiency',\n",
              "  'minimum of 500 hours flight time',\n",
              "  'minimum 200 hours instructional time',\n",
              "  'minimum 30 hours pilot in command mep (land)']]"
            ]
          },
          "metadata": {},
          "execution_count": 16
        }
      ],
      "source": [
        "baskets = rdd.map(lambda row: row['job_skills']).map(lambda skills: [skill.strip() for skill in skills])\n",
        "baskets.take(5)"
      ]
    },
    {
      "cell_type": "code",
      "source": [
        "baskets.count()"
      ],
      "metadata": {
        "id": "dOwOwuVhf3KK",
        "outputId": "a361fc34-4a2f-458c-8487-9bfff253ec3f",
        "colab": {
          "base_uri": "https://localhost:8080/"
        }
      },
      "execution_count": 17,
      "outputs": [
        {
          "output_type": "execute_result",
          "data": {
            "text/plain": [
              "13057"
            ]
          },
          "metadata": {},
          "execution_count": 17
        }
      ]
    },
    {
      "cell_type": "code",
      "execution_count": 18,
      "metadata": {
        "id": "rfmKLIFoKnFp",
        "colab": {
          "base_uri": "https://localhost:8080/"
        },
        "outputId": "0792410b-eaf4-4e52-b99c-ae723b249f9d"
      },
      "outputs": [
        {
          "output_type": "execute_result",
          "data": {
            "text/plain": [
              "20.7857854024661"
            ]
          },
          "metadata": {},
          "execution_count": 18
        }
      ],
      "source": [
        "lens = baskets.map(lambda x: len(x))\n",
        "lens.max()\n",
        "lens.mean()"
      ]
    },
    {
      "cell_type": "code",
      "execution_count": 19,
      "metadata": {
        "colab": {
          "base_uri": "https://localhost:8080/"
        },
        "id": "-_OtlA2VKvOC",
        "outputId": "52e6bfb8-ba8e-4188-eae8-72e4a3c7f7ce"
      },
      "outputs": [
        {
          "output_type": "execute_result",
          "data": {
            "text/plain": [
              "261"
            ]
          },
          "metadata": {},
          "execution_count": 19
        }
      ],
      "source": [
        "support = round((baskets.count())*0.02)\n",
        "support"
      ]
    },
    {
      "cell_type": "markdown",
      "metadata": {
        "id": "LrQHtjekK2AL"
      },
      "source": [
        "### Hash function\n",
        "\n"
      ]
    },
    {
      "cell_type": "code",
      "execution_count": 20,
      "metadata": {
        "colab": {
          "base_uri": "https://localhost:8080/"
        },
        "id": "fmjIR-uVKnJB",
        "outputId": "b7ccb445-54b9-434e-b0cf-c474313bb738"
      },
      "outputs": [
        {
          "output_type": "execute_result",
          "data": {
            "text/plain": [
              "['employee training',\n",
              " 'food safety',\n",
              " 'inventory management',\n",
              " 'team management',\n",
              " 'kitchen supervision']"
            ]
          },
          "metadata": {},
          "execution_count": 20
        }
      ],
      "source": [
        "hash = baskets.flatMap(lambda line: line)\n",
        "hash.take(5)"
      ]
    },
    {
      "cell_type": "code",
      "execution_count": 21,
      "metadata": {
        "colab": {
          "base_uri": "https://localhost:8080/"
        },
        "id": "kp_eSHOXLATx",
        "outputId": "1cd5085a-7b8a-46e4-cc3f-96f16a7479aa"
      },
      "outputs": [
        {
          "output_type": "execute_result",
          "data": {
            "text/plain": [
              "271400"
            ]
          },
          "metadata": {},
          "execution_count": 21
        }
      ],
      "source": [
        "hash.count()"
      ]
    },
    {
      "cell_type": "code",
      "execution_count": 22,
      "metadata": {
        "colab": {
          "base_uri": "https://localhost:8080/"
        },
        "id": "XZv4bNDnLCgy",
        "outputId": "dcd4367f-ec5c-41b6-ad6d-37c8357d36bb"
      },
      "outputs": [
        {
          "output_type": "execute_result",
          "data": {
            "text/plain": [
              "90309"
            ]
          },
          "metadata": {},
          "execution_count": 22
        }
      ],
      "source": [
        "hash = hash.distinct()\n",
        "cnt = hash.count()\n",
        "cnt"
      ]
    },
    {
      "cell_type": "code",
      "execution_count": 23,
      "metadata": {
        "colab": {
          "base_uri": "https://localhost:8080/"
        },
        "id": "D_ioABQYLCkQ",
        "outputId": "6bd9a0b7-e1b7-4a36-879d-236d195b6f56"
      },
      "outputs": [
        {
          "output_type": "execute_result",
          "data": {
            "text/plain": [
              "[('employee training', 0),\n",
              " ('food quality control', 1),\n",
              " ('leadership experience', 2),\n",
              " ('strong customer service', 3),\n",
              " ('decisionmaking', 4)]"
            ]
          },
          "metadata": {},
          "execution_count": 23
        }
      ],
      "source": [
        "hash = hash.zipWithIndex()\n",
        "hash.take(5)"
      ]
    },
    {
      "cell_type": "code",
      "execution_count": 24,
      "metadata": {
        "id": "nuEX1_BELIzs"
      },
      "outputs": [],
      "source": [
        "hash_index = hash.collectAsMap()\n"
      ]
    },
    {
      "cell_type": "code",
      "execution_count": 25,
      "metadata": {
        "id": "27rFJe8fLMYW"
      },
      "outputs": [],
      "source": [
        "#representing the baskets via hash value\n",
        "def hashing(basket):\n",
        "    return {hash_index[skill] for skill in basket}\n",
        "\n",
        "baskets2 = baskets.map(hashing)"
      ]
    },
    {
      "cell_type": "code",
      "execution_count": 26,
      "metadata": {
        "colab": {
          "base_uri": "https://localhost:8080/"
        },
        "id": "6-hdUMzqLMaV",
        "outputId": "cdbf22b0-eb23-4c6a-e7dd-9198c2cace70"
      },
      "outputs": [
        {
          "output_type": "execute_result",
          "data": {
            "text/plain": [
              "[{0,\n",
              "  1,\n",
              "  2,\n",
              "  3,\n",
              "  4,\n",
              "  15078,\n",
              "  15079,\n",
              "  15080,\n",
              "  15081,\n",
              "  30261,\n",
              "  30262,\n",
              "  30263,\n",
              "  30264,\n",
              "  30265,\n",
              "  30266,\n",
              "  45103,\n",
              "  45104,\n",
              "  45105,\n",
              "  45106,\n",
              "  45107,\n",
              "  45108,\n",
              "  45109,\n",
              "  60115,\n",
              "  60116,\n",
              "  60117,\n",
              "  60118,\n",
              "  75119,\n",
              "  75120,\n",
              "  75121},\n",
              " {5,\n",
              "  6,\n",
              "  7,\n",
              "  8,\n",
              "  15082,\n",
              "  15083,\n",
              "  30267,\n",
              "  30268,\n",
              "  30269,\n",
              "  30270,\n",
              "  45110,\n",
              "  45111,\n",
              "  45112,\n",
              "  45113,\n",
              "  45114,\n",
              "  45115,\n",
              "  45116,\n",
              "  60119,\n",
              "  60120,\n",
              "  60121,\n",
              "  75122,\n",
              "  75123,\n",
              "  75124,\n",
              "  75125,\n",
              "  75126,\n",
              "  75127,\n",
              "  75128,\n",
              "  75129},\n",
              " {9,\n",
              "  15084,\n",
              "  15085,\n",
              "  15086,\n",
              "  15087,\n",
              "  15088,\n",
              "  15089,\n",
              "  15090,\n",
              "  30271,\n",
              "  30272,\n",
              "  30273,\n",
              "  30274,\n",
              "  45117,\n",
              "  45118,\n",
              "  45119,\n",
              "  45120,\n",
              "  45121,\n",
              "  45122,\n",
              "  45123,\n",
              "  60122,\n",
              "  60123,\n",
              "  60124,\n",
              "  60125,\n",
              "  60126,\n",
              "  60127,\n",
              "  75130,\n",
              "  75131,\n",
              "  75132,\n",
              "  75133,\n",
              "  75134}]"
            ]
          },
          "metadata": {},
          "execution_count": 26
        }
      ],
      "source": [
        "baskets2.take(3)"
      ]
    },
    {
      "cell_type": "markdown",
      "metadata": {
        "id": "6_DjBIChLa43"
      },
      "source": [
        "# Apriori Algorithm Implementation"
      ]
    },
    {
      "cell_type": "code",
      "execution_count": 27,
      "metadata": {
        "id": "xzb7tZ4ULMdv"
      },
      "outputs": [],
      "source": [
        "from itertools import combinations"
      ]
    },
    {
      "cell_type": "code",
      "source": [
        "def apriori_alg(baskets, support_threshold, item_map):\n",
        "\n",
        "    print(\"Frequent singletons\")\n",
        "\n",
        "    singletons = (baskets.flatMap(lambda basket: [(item, 1) for item in basket]).reduceByKey(lambda x, y: x + y).filter(lambda x: x[1] > support_threshold))\n",
        "\n",
        "    singletons_count = singletons.count()\n",
        "\n",
        "    if singletons_count == 0:\n",
        "        print(\"Threshold too high.\")\n",
        "        return\n",
        "\n",
        "    print(\"Number of frequent singletons:\", singletons_count)\n",
        "\n",
        "    most_frequent_singleton = singletons.max(lambda x: x[1])\n",
        "    max_singleton_item = list(item_map.keys())[list(item_map.values()).index(most_frequent_singleton[0])]\n",
        "    print(\"Most frequent one:\", max_singleton_item)\n",
        "\n",
        "    frequent_items = set(singletons.map(lambda x: (x[0],)).collect())\n",
        "\n",
        "    print()\n",
        "\n",
        "    k = 2\n",
        "\n",
        "    while True:\n",
        "        print(\"Sets of:\", k)\n",
        "\n",
        "        candidate_sets = (baskets.flatMap(lambda basket: [(combo, 1) for combo in combinations(sorted(basket), k) if all(subset in frequent_items for subset in combinations(combo, k - 1))]).reduceByKey(lambda x, y: x + y).filter(lambda x: x[1] > support_threshold))\n",
        "\n",
        "        candidate_count = candidate_sets.count()\n",
        "\n",
        "        if candidate_count != 0:\n",
        "            print(\"Frequent sets of\", k, \":\", candidate_count)\n",
        "\n",
        "            most_frequent_set = candidate_sets.max(lambda x: x[1])\n",
        "            most_frequent_items = [list(item_map.keys())[list(item_map.values()).index(skill)] for skill in most_frequent_set[0]]\n",
        "            print(\"Most frequent set of\", k, \":\", most_frequent_items)\n",
        "\n",
        "            frequent_items = set(candidate_sets.map(lambda x: x[0]).collect())\n",
        "\n",
        "            print()\n",
        "            k += 1\n",
        "\n",
        "        else:\n",
        "            print(\"No frequent sets of k\", k)\n",
        "            print(\"Stop here.\")\n",
        "            break"
      ],
      "metadata": {
        "id": "WjjQjAD1m5On"
      },
      "execution_count": 28,
      "outputs": []
    },
    {
      "cell_type": "code",
      "source": [
        "apriori_alg(baskets2,support,hash_index)\n"
      ],
      "metadata": {
        "colab": {
          "base_uri": "https://localhost:8080/",
          "height": 512
        },
        "id": "GF8i5KRHrCgI",
        "outputId": "2971163d-ba3c-48fc-c683-db7d0295ea1f"
      },
      "execution_count": 29,
      "outputs": [
        {
          "output_type": "stream",
          "name": "stdout",
          "text": [
            "Frequent singletons\n",
            "Number of frequent singletons: 81\n",
            "Most frequent one: communication\n",
            "\n",
            "Sets of: 2\n",
            "Frequent sets of 2 : 69\n",
            "Most frequent set of 2 : ['customer service', 'communication']\n",
            "\n",
            "Sets of: 3\n",
            "Frequent sets of 3 : 22\n",
            "Most frequent set of 3 : ['teamwork', 'customer service', 'communication']\n",
            "\n",
            "Sets of: 4\n"
          ]
        },
        {
          "output_type": "error",
          "ename": "KeyboardInterrupt",
          "evalue": "",
          "traceback": [
            "\u001b[0;31m---------------------------------------------------------------------------\u001b[0m",
            "\u001b[0;31mKeyboardInterrupt\u001b[0m                         Traceback (most recent call last)",
            "\u001b[0;32m<ipython-input-29-bbb86adae1da>\u001b[0m in \u001b[0;36m<cell line: 1>\u001b[0;34m()\u001b[0m\n\u001b[0;32m----> 1\u001b[0;31m \u001b[0mapriori_alg\u001b[0m\u001b[0;34m(\u001b[0m\u001b[0mbaskets2\u001b[0m\u001b[0;34m,\u001b[0m\u001b[0msupport\u001b[0m\u001b[0;34m,\u001b[0m\u001b[0mhash_index\u001b[0m\u001b[0;34m)\u001b[0m\u001b[0;34m\u001b[0m\u001b[0;34m\u001b[0m\u001b[0m\n\u001b[0m",
            "\u001b[0;32m<ipython-input-28-598dbb550023>\u001b[0m in \u001b[0;36mapriori_alg\u001b[0;34m(baskets, support_threshold, item_map)\u001b[0m\n\u001b[1;32m     28\u001b[0m         \u001b[0mcandidate_sets\u001b[0m \u001b[0;34m=\u001b[0m \u001b[0;34m(\u001b[0m\u001b[0mbaskets\u001b[0m\u001b[0;34m.\u001b[0m\u001b[0mflatMap\u001b[0m\u001b[0;34m(\u001b[0m\u001b[0;32mlambda\u001b[0m \u001b[0mbasket\u001b[0m\u001b[0;34m:\u001b[0m \u001b[0;34m[\u001b[0m\u001b[0;34m(\u001b[0m\u001b[0mcombo\u001b[0m\u001b[0;34m,\u001b[0m \u001b[0;36m1\u001b[0m\u001b[0;34m)\u001b[0m \u001b[0;32mfor\u001b[0m \u001b[0mcombo\u001b[0m \u001b[0;32min\u001b[0m \u001b[0mcombinations\u001b[0m\u001b[0;34m(\u001b[0m\u001b[0msorted\u001b[0m\u001b[0;34m(\u001b[0m\u001b[0mbasket\u001b[0m\u001b[0;34m)\u001b[0m\u001b[0;34m,\u001b[0m \u001b[0mk\u001b[0m\u001b[0;34m)\u001b[0m \u001b[0;32mif\u001b[0m \u001b[0mall\u001b[0m\u001b[0;34m(\u001b[0m\u001b[0msubset\u001b[0m \u001b[0;32min\u001b[0m \u001b[0mfrequent_items\u001b[0m \u001b[0;32mfor\u001b[0m \u001b[0msubset\u001b[0m \u001b[0;32min\u001b[0m \u001b[0mcombinations\u001b[0m\u001b[0;34m(\u001b[0m\u001b[0mcombo\u001b[0m\u001b[0;34m,\u001b[0m \u001b[0mk\u001b[0m \u001b[0;34m-\u001b[0m \u001b[0;36m1\u001b[0m\u001b[0;34m)\u001b[0m\u001b[0;34m)\u001b[0m\u001b[0;34m]\u001b[0m\u001b[0;34m)\u001b[0m\u001b[0;34m.\u001b[0m\u001b[0mreduceByKey\u001b[0m\u001b[0;34m(\u001b[0m\u001b[0;32mlambda\u001b[0m \u001b[0mx\u001b[0m\u001b[0;34m,\u001b[0m \u001b[0my\u001b[0m\u001b[0;34m:\u001b[0m \u001b[0mx\u001b[0m \u001b[0;34m+\u001b[0m \u001b[0my\u001b[0m\u001b[0;34m)\u001b[0m\u001b[0;34m.\u001b[0m\u001b[0mfilter\u001b[0m\u001b[0;34m(\u001b[0m\u001b[0;32mlambda\u001b[0m \u001b[0mx\u001b[0m\u001b[0;34m:\u001b[0m \u001b[0mx\u001b[0m\u001b[0;34m[\u001b[0m\u001b[0;36m1\u001b[0m\u001b[0;34m]\u001b[0m \u001b[0;34m>\u001b[0m \u001b[0msupport_threshold\u001b[0m\u001b[0;34m)\u001b[0m\u001b[0;34m)\u001b[0m\u001b[0;34m\u001b[0m\u001b[0;34m\u001b[0m\u001b[0m\n\u001b[1;32m     29\u001b[0m \u001b[0;34m\u001b[0m\u001b[0m\n\u001b[0;32m---> 30\u001b[0;31m         \u001b[0mcandidate_count\u001b[0m \u001b[0;34m=\u001b[0m \u001b[0mcandidate_sets\u001b[0m\u001b[0;34m.\u001b[0m\u001b[0mcount\u001b[0m\u001b[0;34m(\u001b[0m\u001b[0;34m)\u001b[0m\u001b[0;34m\u001b[0m\u001b[0;34m\u001b[0m\u001b[0m\n\u001b[0m\u001b[1;32m     31\u001b[0m \u001b[0;34m\u001b[0m\u001b[0m\n\u001b[1;32m     32\u001b[0m         \u001b[0;32mif\u001b[0m \u001b[0mcandidate_count\u001b[0m \u001b[0;34m!=\u001b[0m \u001b[0;36m0\u001b[0m\u001b[0;34m:\u001b[0m\u001b[0;34m\u001b[0m\u001b[0;34m\u001b[0m\u001b[0m\n",
            "\u001b[0;32m/content/spark-3.1.1-bin-hadoop3.2/python/pyspark/rdd.py\u001b[0m in \u001b[0;36mcount\u001b[0;34m(self)\u001b[0m\n\u001b[1;32m   1233\u001b[0m         \u001b[0;36m3\u001b[0m\u001b[0;34m\u001b[0m\u001b[0;34m\u001b[0m\u001b[0m\n\u001b[1;32m   1234\u001b[0m         \"\"\"\n\u001b[0;32m-> 1235\u001b[0;31m         \u001b[0;32mreturn\u001b[0m \u001b[0mself\u001b[0m\u001b[0;34m.\u001b[0m\u001b[0mmapPartitions\u001b[0m\u001b[0;34m(\u001b[0m\u001b[0;32mlambda\u001b[0m \u001b[0mi\u001b[0m\u001b[0;34m:\u001b[0m \u001b[0;34m[\u001b[0m\u001b[0msum\u001b[0m\u001b[0;34m(\u001b[0m\u001b[0;36m1\u001b[0m \u001b[0;32mfor\u001b[0m \u001b[0m_\u001b[0m \u001b[0;32min\u001b[0m \u001b[0mi\u001b[0m\u001b[0;34m)\u001b[0m\u001b[0;34m]\u001b[0m\u001b[0;34m)\u001b[0m\u001b[0;34m.\u001b[0m\u001b[0msum\u001b[0m\u001b[0;34m(\u001b[0m\u001b[0;34m)\u001b[0m\u001b[0;34m\u001b[0m\u001b[0;34m\u001b[0m\u001b[0m\n\u001b[0m\u001b[1;32m   1236\u001b[0m \u001b[0;34m\u001b[0m\u001b[0m\n\u001b[1;32m   1237\u001b[0m     \u001b[0;32mdef\u001b[0m \u001b[0mstats\u001b[0m\u001b[0;34m(\u001b[0m\u001b[0mself\u001b[0m\u001b[0;34m)\u001b[0m\u001b[0;34m:\u001b[0m\u001b[0;34m\u001b[0m\u001b[0;34m\u001b[0m\u001b[0m\n",
            "\u001b[0;32m/content/spark-3.1.1-bin-hadoop3.2/python/pyspark/rdd.py\u001b[0m in \u001b[0;36msum\u001b[0;34m(self)\u001b[0m\n\u001b[1;32m   1222\u001b[0m         \u001b[0;36m6.0\u001b[0m\u001b[0;34m\u001b[0m\u001b[0;34m\u001b[0m\u001b[0m\n\u001b[1;32m   1223\u001b[0m         \"\"\"\n\u001b[0;32m-> 1224\u001b[0;31m         \u001b[0;32mreturn\u001b[0m \u001b[0mself\u001b[0m\u001b[0;34m.\u001b[0m\u001b[0mmapPartitions\u001b[0m\u001b[0;34m(\u001b[0m\u001b[0;32mlambda\u001b[0m \u001b[0mx\u001b[0m\u001b[0;34m:\u001b[0m \u001b[0;34m[\u001b[0m\u001b[0msum\u001b[0m\u001b[0;34m(\u001b[0m\u001b[0mx\u001b[0m\u001b[0;34m)\u001b[0m\u001b[0;34m]\u001b[0m\u001b[0;34m)\u001b[0m\u001b[0;34m.\u001b[0m\u001b[0mfold\u001b[0m\u001b[0;34m(\u001b[0m\u001b[0;36m0\u001b[0m\u001b[0;34m,\u001b[0m \u001b[0moperator\u001b[0m\u001b[0;34m.\u001b[0m\u001b[0madd\u001b[0m\u001b[0;34m)\u001b[0m\u001b[0;34m\u001b[0m\u001b[0;34m\u001b[0m\u001b[0m\n\u001b[0m\u001b[1;32m   1225\u001b[0m \u001b[0;34m\u001b[0m\u001b[0m\n\u001b[1;32m   1226\u001b[0m     \u001b[0;32mdef\u001b[0m \u001b[0mcount\u001b[0m\u001b[0;34m(\u001b[0m\u001b[0mself\u001b[0m\u001b[0;34m)\u001b[0m\u001b[0;34m:\u001b[0m\u001b[0;34m\u001b[0m\u001b[0;34m\u001b[0m\u001b[0m\n",
            "\u001b[0;32m/content/spark-3.1.1-bin-hadoop3.2/python/pyspark/rdd.py\u001b[0m in \u001b[0;36mfold\u001b[0;34m(self, zeroValue, op)\u001b[0m\n\u001b[1;32m   1076\u001b[0m         \u001b[0;31m# zeroValue provided to each partition is unique from the one provided\u001b[0m\u001b[0;34m\u001b[0m\u001b[0;34m\u001b[0m\u001b[0m\n\u001b[1;32m   1077\u001b[0m         \u001b[0;31m# to the final reduce call\u001b[0m\u001b[0;34m\u001b[0m\u001b[0;34m\u001b[0m\u001b[0m\n\u001b[0;32m-> 1078\u001b[0;31m         \u001b[0mvals\u001b[0m \u001b[0;34m=\u001b[0m \u001b[0mself\u001b[0m\u001b[0;34m.\u001b[0m\u001b[0mmapPartitions\u001b[0m\u001b[0;34m(\u001b[0m\u001b[0mfunc\u001b[0m\u001b[0;34m)\u001b[0m\u001b[0;34m.\u001b[0m\u001b[0mcollect\u001b[0m\u001b[0;34m(\u001b[0m\u001b[0;34m)\u001b[0m\u001b[0;34m\u001b[0m\u001b[0;34m\u001b[0m\u001b[0m\n\u001b[0m\u001b[1;32m   1079\u001b[0m         \u001b[0;32mreturn\u001b[0m \u001b[0mreduce\u001b[0m\u001b[0;34m(\u001b[0m\u001b[0mop\u001b[0m\u001b[0;34m,\u001b[0m \u001b[0mvals\u001b[0m\u001b[0;34m,\u001b[0m \u001b[0mzeroValue\u001b[0m\u001b[0;34m)\u001b[0m\u001b[0;34m\u001b[0m\u001b[0;34m\u001b[0m\u001b[0m\n\u001b[1;32m   1080\u001b[0m \u001b[0;34m\u001b[0m\u001b[0m\n",
            "\u001b[0;32m/content/spark-3.1.1-bin-hadoop3.2/python/pyspark/rdd.py\u001b[0m in \u001b[0;36mcollect\u001b[0;34m(self)\u001b[0m\n\u001b[1;32m    947\u001b[0m         \"\"\"\n\u001b[1;32m    948\u001b[0m         \u001b[0;32mwith\u001b[0m \u001b[0mSCCallSiteSync\u001b[0m\u001b[0;34m(\u001b[0m\u001b[0mself\u001b[0m\u001b[0;34m.\u001b[0m\u001b[0mcontext\u001b[0m\u001b[0;34m)\u001b[0m \u001b[0;32mas\u001b[0m \u001b[0mcss\u001b[0m\u001b[0;34m:\u001b[0m\u001b[0;34m\u001b[0m\u001b[0;34m\u001b[0m\u001b[0m\n\u001b[0;32m--> 949\u001b[0;31m             \u001b[0msock_info\u001b[0m \u001b[0;34m=\u001b[0m \u001b[0mself\u001b[0m\u001b[0;34m.\u001b[0m\u001b[0mctx\u001b[0m\u001b[0;34m.\u001b[0m\u001b[0m_jvm\u001b[0m\u001b[0;34m.\u001b[0m\u001b[0mPythonRDD\u001b[0m\u001b[0;34m.\u001b[0m\u001b[0mcollectAndServe\u001b[0m\u001b[0;34m(\u001b[0m\u001b[0mself\u001b[0m\u001b[0;34m.\u001b[0m\u001b[0m_jrdd\u001b[0m\u001b[0;34m.\u001b[0m\u001b[0mrdd\u001b[0m\u001b[0;34m(\u001b[0m\u001b[0;34m)\u001b[0m\u001b[0;34m)\u001b[0m\u001b[0;34m\u001b[0m\u001b[0;34m\u001b[0m\u001b[0m\n\u001b[0m\u001b[1;32m    950\u001b[0m         \u001b[0;32mreturn\u001b[0m \u001b[0mlist\u001b[0m\u001b[0;34m(\u001b[0m\u001b[0m_load_from_socket\u001b[0m\u001b[0;34m(\u001b[0m\u001b[0msock_info\u001b[0m\u001b[0;34m,\u001b[0m \u001b[0mself\u001b[0m\u001b[0;34m.\u001b[0m\u001b[0m_jrdd_deserializer\u001b[0m\u001b[0;34m)\u001b[0m\u001b[0;34m)\u001b[0m\u001b[0;34m\u001b[0m\u001b[0;34m\u001b[0m\u001b[0m\n\u001b[1;32m    951\u001b[0m \u001b[0;34m\u001b[0m\u001b[0m\n",
            "\u001b[0;32m/content/spark-3.1.1-bin-hadoop3.2/python/lib/py4j-0.10.9-src.zip/py4j/java_gateway.py\u001b[0m in \u001b[0;36m__call__\u001b[0;34m(self, *args)\u001b[0m\n\u001b[1;32m   1301\u001b[0m             \u001b[0mproto\u001b[0m\u001b[0;34m.\u001b[0m\u001b[0mEND_COMMAND_PART\u001b[0m\u001b[0;34m\u001b[0m\u001b[0;34m\u001b[0m\u001b[0m\n\u001b[1;32m   1302\u001b[0m \u001b[0;34m\u001b[0m\u001b[0m\n\u001b[0;32m-> 1303\u001b[0;31m         \u001b[0manswer\u001b[0m \u001b[0;34m=\u001b[0m \u001b[0mself\u001b[0m\u001b[0;34m.\u001b[0m\u001b[0mgateway_client\u001b[0m\u001b[0;34m.\u001b[0m\u001b[0msend_command\u001b[0m\u001b[0;34m(\u001b[0m\u001b[0mcommand\u001b[0m\u001b[0;34m)\u001b[0m\u001b[0;34m\u001b[0m\u001b[0;34m\u001b[0m\u001b[0m\n\u001b[0m\u001b[1;32m   1304\u001b[0m         return_value = get_return_value(\n\u001b[1;32m   1305\u001b[0m             answer, self.gateway_client, self.target_id, self.name)\n",
            "\u001b[0;32m/content/spark-3.1.1-bin-hadoop3.2/python/lib/py4j-0.10.9-src.zip/py4j/java_gateway.py\u001b[0m in \u001b[0;36msend_command\u001b[0;34m(self, command, retry, binary)\u001b[0m\n\u001b[1;32m   1031\u001b[0m         \u001b[0mconnection\u001b[0m \u001b[0;34m=\u001b[0m \u001b[0mself\u001b[0m\u001b[0;34m.\u001b[0m\u001b[0m_get_connection\u001b[0m\u001b[0;34m(\u001b[0m\u001b[0;34m)\u001b[0m\u001b[0;34m\u001b[0m\u001b[0;34m\u001b[0m\u001b[0m\n\u001b[1;32m   1032\u001b[0m         \u001b[0;32mtry\u001b[0m\u001b[0;34m:\u001b[0m\u001b[0;34m\u001b[0m\u001b[0;34m\u001b[0m\u001b[0m\n\u001b[0;32m-> 1033\u001b[0;31m             \u001b[0mresponse\u001b[0m \u001b[0;34m=\u001b[0m \u001b[0mconnection\u001b[0m\u001b[0;34m.\u001b[0m\u001b[0msend_command\u001b[0m\u001b[0;34m(\u001b[0m\u001b[0mcommand\u001b[0m\u001b[0;34m)\u001b[0m\u001b[0;34m\u001b[0m\u001b[0;34m\u001b[0m\u001b[0m\n\u001b[0m\u001b[1;32m   1034\u001b[0m             \u001b[0;32mif\u001b[0m \u001b[0mbinary\u001b[0m\u001b[0;34m:\u001b[0m\u001b[0;34m\u001b[0m\u001b[0;34m\u001b[0m\u001b[0m\n\u001b[1;32m   1035\u001b[0m                 \u001b[0;32mreturn\u001b[0m \u001b[0mresponse\u001b[0m\u001b[0;34m,\u001b[0m \u001b[0mself\u001b[0m\u001b[0;34m.\u001b[0m\u001b[0m_create_connection_guard\u001b[0m\u001b[0;34m(\u001b[0m\u001b[0mconnection\u001b[0m\u001b[0;34m)\u001b[0m\u001b[0;34m\u001b[0m\u001b[0;34m\u001b[0m\u001b[0m\n",
            "\u001b[0;32m/content/spark-3.1.1-bin-hadoop3.2/python/lib/py4j-0.10.9-src.zip/py4j/java_gateway.py\u001b[0m in \u001b[0;36msend_command\u001b[0;34m(self, command)\u001b[0m\n\u001b[1;32m   1198\u001b[0m \u001b[0;34m\u001b[0m\u001b[0m\n\u001b[1;32m   1199\u001b[0m         \u001b[0;32mtry\u001b[0m\u001b[0;34m:\u001b[0m\u001b[0;34m\u001b[0m\u001b[0;34m\u001b[0m\u001b[0m\n\u001b[0;32m-> 1200\u001b[0;31m             \u001b[0manswer\u001b[0m \u001b[0;34m=\u001b[0m \u001b[0msmart_decode\u001b[0m\u001b[0;34m(\u001b[0m\u001b[0mself\u001b[0m\u001b[0;34m.\u001b[0m\u001b[0mstream\u001b[0m\u001b[0;34m.\u001b[0m\u001b[0mreadline\u001b[0m\u001b[0;34m(\u001b[0m\u001b[0;34m)\u001b[0m\u001b[0;34m[\u001b[0m\u001b[0;34m:\u001b[0m\u001b[0;34m-\u001b[0m\u001b[0;36m1\u001b[0m\u001b[0;34m]\u001b[0m\u001b[0;34m)\u001b[0m\u001b[0;34m\u001b[0m\u001b[0;34m\u001b[0m\u001b[0m\n\u001b[0m\u001b[1;32m   1201\u001b[0m             \u001b[0mlogger\u001b[0m\u001b[0;34m.\u001b[0m\u001b[0mdebug\u001b[0m\u001b[0;34m(\u001b[0m\u001b[0;34m\"Answer received: {0}\"\u001b[0m\u001b[0;34m.\u001b[0m\u001b[0mformat\u001b[0m\u001b[0;34m(\u001b[0m\u001b[0manswer\u001b[0m\u001b[0;34m)\u001b[0m\u001b[0;34m)\u001b[0m\u001b[0;34m\u001b[0m\u001b[0;34m\u001b[0m\u001b[0m\n\u001b[1;32m   1202\u001b[0m             \u001b[0;32mif\u001b[0m \u001b[0manswer\u001b[0m\u001b[0;34m.\u001b[0m\u001b[0mstartswith\u001b[0m\u001b[0;34m(\u001b[0m\u001b[0mproto\u001b[0m\u001b[0;34m.\u001b[0m\u001b[0mRETURN_MESSAGE\u001b[0m\u001b[0;34m)\u001b[0m\u001b[0;34m:\u001b[0m\u001b[0;34m\u001b[0m\u001b[0;34m\u001b[0m\u001b[0m\n",
            "\u001b[0;32m/usr/lib/python3.10/socket.py\u001b[0m in \u001b[0;36mreadinto\u001b[0;34m(self, b)\u001b[0m\n\u001b[1;32m    703\u001b[0m         \u001b[0;32mwhile\u001b[0m \u001b[0;32mTrue\u001b[0m\u001b[0;34m:\u001b[0m\u001b[0;34m\u001b[0m\u001b[0;34m\u001b[0m\u001b[0m\n\u001b[1;32m    704\u001b[0m             \u001b[0;32mtry\u001b[0m\u001b[0;34m:\u001b[0m\u001b[0;34m\u001b[0m\u001b[0;34m\u001b[0m\u001b[0m\n\u001b[0;32m--> 705\u001b[0;31m                 \u001b[0;32mreturn\u001b[0m \u001b[0mself\u001b[0m\u001b[0;34m.\u001b[0m\u001b[0m_sock\u001b[0m\u001b[0;34m.\u001b[0m\u001b[0mrecv_into\u001b[0m\u001b[0;34m(\u001b[0m\u001b[0mb\u001b[0m\u001b[0;34m)\u001b[0m\u001b[0;34m\u001b[0m\u001b[0;34m\u001b[0m\u001b[0m\n\u001b[0m\u001b[1;32m    706\u001b[0m             \u001b[0;32mexcept\u001b[0m \u001b[0mtimeout\u001b[0m\u001b[0;34m:\u001b[0m\u001b[0;34m\u001b[0m\u001b[0;34m\u001b[0m\u001b[0m\n\u001b[1;32m    707\u001b[0m                 \u001b[0mself\u001b[0m\u001b[0;34m.\u001b[0m\u001b[0m_timeout_occurred\u001b[0m \u001b[0;34m=\u001b[0m \u001b[0;32mTrue\u001b[0m\u001b[0;34m\u001b[0m\u001b[0;34m\u001b[0m\u001b[0m\n",
            "\u001b[0;31mKeyboardInterrupt\u001b[0m: "
          ]
        }
      ]
    }
  ],
  "metadata": {
    "colab": {
      "provenance": [],
      "authorship_tag": "ABX9TyNEqFczwrvclZkiAWwEDSPg",
      "include_colab_link": true
    },
    "kernelspec": {
      "display_name": "Python 3",
      "name": "python3"
    },
    "language_info": {
      "name": "python"
    }
  },
  "nbformat": 4,
  "nbformat_minor": 0
}
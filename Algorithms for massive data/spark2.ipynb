{
  "cells": [
    {
      "cell_type": "markdown",
      "metadata": {
        "id": "view-in-github",
        "colab_type": "text"
      },
      "source": [
        "<a href=\"https://colab.research.google.com/github/arina19-2000/unimi/blob/main/Algorithms%20for%20massive%20data/spark2.ipynb\" target=\"_parent\"><img src=\"https://colab.research.google.com/assets/colab-badge.svg\" alt=\"Open In Colab\"/></a>"
      ]
    },
    {
      "cell_type": "markdown",
      "metadata": {
        "id": "4AEP-sxUGH-q"
      },
      "source": [
        "## **Market Basket Analysis Project**\n",
        "Done by: Arina Lopukhina"
      ]
    },
    {
      "cell_type": "code",
      "execution_count": null,
      "metadata": {
        "colab": {
          "base_uri": "https://localhost:8080/",
          "height": 219
        },
        "id": "KSPB5V3aFNlO",
        "outputId": "c89f9a45-4291-4535-e0d7-ed4590912a5a"
      },
      "outputs": [
        {
          "output_type": "execute_result",
          "data": {
            "text/plain": [
              "<pyspark.sql.session.SparkSession at 0x7c7701338a60>"
            ],
            "text/html": [
              "\n",
              "            <div>\n",
              "                <p><b>SparkSession - in-memory</b></p>\n",
              "                \n",
              "        <div>\n",
              "            <p><b>SparkContext</b></p>\n",
              "\n",
              "            <p><a href=\"http://ebf2f5804b84:4040\">Spark UI</a></p>\n",
              "\n",
              "            <dl>\n",
              "              <dt>Version</dt>\n",
              "                <dd><code>v3.1.1</code></dd>\n",
              "              <dt>Master</dt>\n",
              "                <dd><code>local[*]</code></dd>\n",
              "              <dt>AppName</dt>\n",
              "                <dd><code>pyspark-shell</code></dd>\n",
              "            </dl>\n",
              "        </div>\n",
              "        \n",
              "            </div>\n",
              "        "
            ]
          },
          "metadata": {},
          "execution_count": 1
        }
      ],
      "source": [
        "!apt-get install openjdk-8-jdk-headless -qq > /dev/null\n",
        "!wget -q http://archive.apache.org/dist/spark/spark-3.1.1/spark-3.1.1-bin-hadoop3.2.tgz\n",
        "!tar xf spark-3.1.1-bin-hadoop3.2.tgz\n",
        "!pip install -q findspark\n",
        "\n",
        "import os\n",
        "os.environ[\"JAVA_HOME\"] = \"/usr/lib/jvm/java-8-openjdk-amd64\"\n",
        "os.environ[\"SPARK_HOME\"] = \"/content/spark-3.1.1-bin-hadoop3.2\"\n",
        "\n",
        "import findspark\n",
        "findspark.init()\n",
        "from pyspark.sql import SparkSession\n",
        "spark = SparkSession.builder.master(\"local[*]\").getOrCreate()\n",
        "spark.conf.set(\"spark.sql.repl.eagerEval.enabled\", True)\n",
        "spark"
      ]
    },
    {
      "cell_type": "code",
      "execution_count": null,
      "metadata": {
        "id": "Fzylca-uF-Z0"
      },
      "outputs": [],
      "source": [
        "import pyspark\n",
        "sc = spark.sparkContext"
      ]
    },
    {
      "cell_type": "code",
      "execution_count": null,
      "metadata": {
        "colab": {
          "base_uri": "https://localhost:8080/"
        },
        "id": "BWusrCtxGAdy",
        "outputId": "a0dc1359-fd30-4e99-9ff1-388dae730609"
      },
      "outputs": [
        {
          "output_type": "stream",
          "name": "stdout",
          "text": [
            "Dataset URL: https://www.kaggle.com/datasets/asaniczka/1-3m-linkedin-jobs-and-skills-2024\n",
            "License(s): ODC Attribution License (ODC-By)\n",
            "job_skills.csv.zip: Skipping, found more recently modified local copy (use --force to force download)\n"
          ]
        }
      ],
      "source": [
        "os.environ['KAGGLE_USERNAME'] = \"xxx\"\n",
        "os.environ['KAGGLE_KEY'] = \"xxx\"\n",
        "!kaggle datasets download -d asaniczka/1-3m-linkedin-jobs-and-skills-2024 -f job_skills.csv"
      ]
    },
    {
      "cell_type": "code",
      "execution_count": null,
      "metadata": {
        "colab": {
          "base_uri": "https://localhost:8080/"
        },
        "id": "woSGEIfSGAgJ",
        "outputId": "77cc13c1-5ed3-4b6d-cb11-6d15a2d9fdab"
      },
      "outputs": [
        {
          "output_type": "stream",
          "name": "stdout",
          "text": [
            "Archive:  /content/job_skills.csv.zip\n",
            "replace data/job_skills.csv? [y]es, [n]o, [A]ll, [N]one, [r]ename: y\n",
            "  inflating: data/job_skills.csv     \n"
          ]
        }
      ],
      "source": [
        "!unzip /content/job_skills.csv.zip -d data"
      ]
    },
    {
      "cell_type": "code",
      "execution_count": null,
      "metadata": {
        "colab": {
          "base_uri": "https://localhost:8080/"
        },
        "id": "3bQrbpnVGAjs",
        "outputId": "82d8926a-7cc3-4ad3-d485-0dcdc75f442e"
      },
      "outputs": [
        {
          "output_type": "stream",
          "name": "stdout",
          "text": [
            "+--------------------+--------------------+\n",
            "|            job_link|          job_skills|\n",
            "+--------------------+--------------------+\n",
            "|https://www.linke...|Building Custodia...|\n",
            "|https://www.linke...|Customer service,...|\n",
            "|https://www.linke...|Applied Behavior ...|\n",
            "|https://www.linke...|Electrical Engine...|\n",
            "|https://www.linke...|Electrical Assemb...|\n",
            "|https://www.linke...|Access Control, V...|\n",
            "|https://www.linke...|Consultation, Sup...|\n",
            "|https://www.linke...|Veterinary Recept...|\n",
            "|https://www.linke...|Optical Inspectio...|\n",
            "|https://www.linke...|HVAC, troubleshoo...|\n",
            "|https://www.linke...|Host/Server Assis...|\n",
            "|https://www.linke...|Apartment mainten...|\n",
            "|https://www.linke...|Fiber Optic Cable...|\n",
            "|https://www.linke...|CT Technologist, ...|\n",
            "|https://ca.linked...|SAP, DRMIS, Data ...|\n",
            "|https://www.linke...|Debt and equity o...|\n",
            "|https://ca.linked...|Biomedical Engine...|\n",
            "|https://www.linke...|Laboratory Techni...|\n",
            "|https://www.linke...|Program Managemen...|\n",
            "|https://www.linke...|Hiring, Training,...|\n",
            "+--------------------+--------------------+\n",
            "only showing top 20 rows\n",
            "\n"
          ]
        }
      ],
      "source": [
        "df = spark.read.options(header=True).csv('data/job_skills.csv')\n",
        "df.show()"
      ]
    },
    {
      "cell_type": "code",
      "execution_count": null,
      "metadata": {
        "colab": {
          "base_uri": "https://localhost:8080/",
          "height": 156
        },
        "id": "ea6-kSnBGDnI",
        "outputId": "d9ec2cb8-160d-487f-c8e3-530eb6eaca38"
      },
      "outputs": [
        {
          "output_type": "execute_result",
          "data": {
            "text/plain": [
              "+-------+--------------------+-------------------------------+\n",
              "|summary|            job_link|                     job_skills|\n",
              "+-------+--------------------+-------------------------------+\n",
              "|  count|             1294374|                        1294374|\n",
              "|   mean|                null|                           null|\n",
              "| stddev|                null|                           null|\n",
              "|    min|https://ae.linked...|           \"* Maintenance, *...|\n",
              "|    max|https://za.linked...|志愿服务, 沟通, 陪伴, 临终服...|\n",
              "+-------+--------------------+-------------------------------+"
            ],
            "text/html": [
              "<table border='1'>\n",
              "<tr><th>summary</th><th>job_link</th><th>job_skills</th></tr>\n",
              "<tr><td>count</td><td>1294374</td><td>1294374</td></tr>\n",
              "<tr><td>mean</td><td>null</td><td>null</td></tr>\n",
              "<tr><td>stddev</td><td>null</td><td>null</td></tr>\n",
              "<tr><td>min</td><td>https://ae.linked...</td><td>&quot;* Maintenance, *...</td></tr>\n",
              "<tr><td>max</td><td>https://za.linked...</td><td>志愿服务, 沟通, 陪伴, 临终服...</td></tr>\n",
              "</table>\n"
            ]
          },
          "metadata": {},
          "execution_count": 6
        }
      ],
      "source": [
        "df = df.dropna()\n",
        "df.describe()"
      ]
    },
    {
      "cell_type": "markdown",
      "metadata": {
        "id": "L_QWeBOFIVZ4"
      },
      "source": [
        "## Data exploration"
      ]
    },
    {
      "cell_type": "code",
      "execution_count": null,
      "metadata": {
        "id": "yUr_GtuQIbGT",
        "colab": {
          "base_uri": "https://localhost:8080/",
          "height": 531
        },
        "outputId": "1568c3f1-76a7-4f5c-e06e-3d16212ad17a"
      },
      "outputs": [
        {
          "output_type": "stream",
          "name": "stdout",
          "text": [
            "3387715\n"
          ]
        },
        {
          "output_type": "execute_result",
          "data": {
            "text/plain": [
              "+--------------------+------+\n",
              "|          job_skills| count|\n",
              "+--------------------+------+\n",
              "|       Communication|356365|\n",
              "|            Teamwork|223000|\n",
              "|          Leadership|162921|\n",
              "| Communication sk...|104700|\n",
              "|    Customer service|104112|\n",
              "|     Problem Solving|101727|\n",
              "|    Customer Service| 93458|\n",
              "|      Problemsolving| 92206|\n",
              "|       Collaboration| 86620|\n",
              "|            Training| 82865|\n",
              "| Communication Sk...| 77267|\n",
              "| Attention to detail| 75147|\n",
              "|     Time management| 72193|\n",
              "|     Time Management| 69638|\n",
              "| Microsoft Office...| 69557|\n",
              "|  Project Management| 67227|\n",
              "|               Sales| 65508|\n",
              "|          Scheduling| 63264|\n",
              "|    Customer service| 62046|\n",
              "|             Nursing| 60250|\n",
              "+--------------------+------+\n",
              "only showing top 20 rows"
            ],
            "text/html": [
              "<table border='1'>\n",
              "<tr><th>job_skills</th><th>count</th></tr>\n",
              "<tr><td> Communication</td><td>356365</td></tr>\n",
              "<tr><td> Teamwork</td><td>223000</td></tr>\n",
              "<tr><td> Leadership</td><td>162921</td></tr>\n",
              "<tr><td> Communication sk...</td><td>104700</td></tr>\n",
              "<tr><td> Customer service</td><td>104112</td></tr>\n",
              "<tr><td> Problem Solving</td><td>101727</td></tr>\n",
              "<tr><td> Customer Service</td><td>93458</td></tr>\n",
              "<tr><td> Problemsolving</td><td>92206</td></tr>\n",
              "<tr><td> Collaboration</td><td>86620</td></tr>\n",
              "<tr><td> Training</td><td>82865</td></tr>\n",
              "<tr><td> Communication Sk...</td><td>77267</td></tr>\n",
              "<tr><td> Attention to detail</td><td>75147</td></tr>\n",
              "<tr><td> Time management</td><td>72193</td></tr>\n",
              "<tr><td> Time Management</td><td>69638</td></tr>\n",
              "<tr><td> Microsoft Office...</td><td>69557</td></tr>\n",
              "<tr><td> Project Management</td><td>67227</td></tr>\n",
              "<tr><td> Sales</td><td>65508</td></tr>\n",
              "<tr><td> Scheduling</td><td>63264</td></tr>\n",
              "<tr><td>Customer service</td><td>62046</td></tr>\n",
              "<tr><td>Nursing</td><td>60250</td></tr>\n",
              "</table>\n",
              "only showing top 20 rows\n"
            ]
          },
          "metadata": {},
          "execution_count": 7
        }
      ],
      "source": [
        "from pyspark.sql.functions import split, explode, col, lower, trim, when, count\n",
        "\n",
        "skills_exploded = df.withColumn(\"skills_list\", split(col(\"job_skills\"), \",\")) \\\n",
        "                   .withColumn(\"skill\", explode(col(\"skills_list\"))) \\\n",
        "                   .groupBy(\"skill\") \\\n",
        "                   .agg(count(\"*\").alias(\"count\")) \\\n",
        "                   .withColumnRenamed(\"skill\", \"job_skills\")\n",
        "\n",
        "skills_exploded\n",
        "\n",
        "skills = skills_exploded.orderBy(col(\"count\").desc())\n",
        "\n",
        "row_count = skills.count()\n",
        "print(row_count)\n",
        "skills"
      ]
    },
    {
      "cell_type": "code",
      "source": [
        "skills_exploded = skills_exploded.withColumn(\"job_skills\", lower(col(\"job_skills\")))\n",
        "skills = skills_exploded.orderBy(col(\"count\").desc())\n",
        "\n",
        "row_count = skills.count()\n",
        "print(row_count)\n",
        "skills"
      ],
      "metadata": {
        "colab": {
          "base_uri": "https://localhost:8080/",
          "height": 531
        },
        "id": "O9J49XOKySjZ",
        "outputId": "0b7dbe8c-81f6-4e2c-b0b6-f834774d8ade"
      },
      "execution_count": null,
      "outputs": [
        {
          "output_type": "stream",
          "name": "stdout",
          "text": [
            "3387715\n"
          ]
        },
        {
          "output_type": "execute_result",
          "data": {
            "text/plain": [
              "+--------------------+------+\n",
              "|          job_skills| count|\n",
              "+--------------------+------+\n",
              "|       communication|356365|\n",
              "|            teamwork|223000|\n",
              "|          leadership|162921|\n",
              "| communication sk...|104700|\n",
              "|    customer service|104112|\n",
              "|     problem solving|101727|\n",
              "|    customer service| 93458|\n",
              "|      problemsolving| 92206|\n",
              "|       collaboration| 86620|\n",
              "|            training| 82865|\n",
              "| communication sk...| 77267|\n",
              "| attention to detail| 75147|\n",
              "|     time management| 72193|\n",
              "|     time management| 69638|\n",
              "| microsoft office...| 69557|\n",
              "|  project management| 67227|\n",
              "|               sales| 65508|\n",
              "|          scheduling| 63264|\n",
              "|    customer service| 62046|\n",
              "|             nursing| 60250|\n",
              "+--------------------+------+\n",
              "only showing top 20 rows"
            ],
            "text/html": [
              "<table border='1'>\n",
              "<tr><th>job_skills</th><th>count</th></tr>\n",
              "<tr><td> communication</td><td>356365</td></tr>\n",
              "<tr><td> teamwork</td><td>223000</td></tr>\n",
              "<tr><td> leadership</td><td>162921</td></tr>\n",
              "<tr><td> communication sk...</td><td>104700</td></tr>\n",
              "<tr><td> customer service</td><td>104112</td></tr>\n",
              "<tr><td> problem solving</td><td>101727</td></tr>\n",
              "<tr><td> customer service</td><td>93458</td></tr>\n",
              "<tr><td> problemsolving</td><td>92206</td></tr>\n",
              "<tr><td> collaboration</td><td>86620</td></tr>\n",
              "<tr><td> training</td><td>82865</td></tr>\n",
              "<tr><td> communication sk...</td><td>77267</td></tr>\n",
              "<tr><td> attention to detail</td><td>75147</td></tr>\n",
              "<tr><td> time management</td><td>72193</td></tr>\n",
              "<tr><td> time management</td><td>69638</td></tr>\n",
              "<tr><td> microsoft office...</td><td>69557</td></tr>\n",
              "<tr><td> project management</td><td>67227</td></tr>\n",
              "<tr><td> sales</td><td>65508</td></tr>\n",
              "<tr><td> scheduling</td><td>63264</td></tr>\n",
              "<tr><td>customer service</td><td>62046</td></tr>\n",
              "<tr><td>nursing</td><td>60250</td></tr>\n",
              "</table>\n",
              "only showing top 20 rows\n"
            ]
          },
          "metadata": {},
          "execution_count": 8
        }
      ]
    },
    {
      "cell_type": "markdown",
      "source": [
        "It appears that some of the counts were adjusted because of the case switch - now completing the same operation on the whole df."
      ],
      "metadata": {
        "id": "akx_hoIE0NAy"
      }
    },
    {
      "cell_type": "code",
      "source": [
        "from pyspark.sql.types import StringType\n",
        "\n",
        "for col_name in df.columns:\n",
        "    if isinstance(df.schema[col_name].dataType, StringType):\n",
        "        df = df.withColumn(col_name, lower(col(col_name)))\n",
        "\n",
        "df = df.withColumn(\"job_skills\", split(col(\"job_skills\"), \",\\s*\"))\n"
      ],
      "metadata": {
        "id": "P4HTmb5awV0n"
      },
      "execution_count": null,
      "outputs": []
    },
    {
      "cell_type": "code",
      "source": [
        "df"
      ],
      "metadata": {
        "colab": {
          "base_uri": "https://localhost:8080/",
          "height": 514
        },
        "id": "8W32Sf06CjM6",
        "outputId": "d87ac52e-7441-43ff-8e20-e5caa136e7f2"
      },
      "execution_count": null,
      "outputs": [
        {
          "output_type": "execute_result",
          "data": {
            "text/plain": [
              "+--------------------+--------------------+\n",
              "|            job_link|          job_skills|\n",
              "+--------------------+--------------------+\n",
              "|https://www.linke...|[building custodi...|\n",
              "|https://www.linke...|[customer service...|\n",
              "|https://www.linke...|[applied behavior...|\n",
              "|https://www.linke...|[electrical engin...|\n",
              "|https://www.linke...|[electrical assem...|\n",
              "|https://www.linke...|[access control, ...|\n",
              "|https://www.linke...|[consultation, su...|\n",
              "|https://www.linke...|[veterinary recep...|\n",
              "|https://www.linke...|[optical inspecti...|\n",
              "|https://www.linke...|[hvac, troublesho...|\n",
              "|https://www.linke...|[host/server assi...|\n",
              "|https://www.linke...|[apartment mainte...|\n",
              "|https://www.linke...|[fiber optic cabl...|\n",
              "|https://www.linke...|[ct technologist,...|\n",
              "|https://ca.linked...|[sap, drmis, data...|\n",
              "|https://www.linke...|[debt and equity ...|\n",
              "|https://ca.linked...|[biomedical engin...|\n",
              "|https://www.linke...|[laboratory techn...|\n",
              "|https://www.linke...|[program manageme...|\n",
              "|https://www.linke...|[hiring, training...|\n",
              "+--------------------+--------------------+\n",
              "only showing top 20 rows"
            ],
            "text/html": [
              "<table border='1'>\n",
              "<tr><th>job_link</th><th>job_skills</th></tr>\n",
              "<tr><td>https://www.linke...</td><td>[building custodi...</td></tr>\n",
              "<tr><td>https://www.linke...</td><td>[customer service...</td></tr>\n",
              "<tr><td>https://www.linke...</td><td>[applied behavior...</td></tr>\n",
              "<tr><td>https://www.linke...</td><td>[electrical engin...</td></tr>\n",
              "<tr><td>https://www.linke...</td><td>[electrical assem...</td></tr>\n",
              "<tr><td>https://www.linke...</td><td>[access control, ...</td></tr>\n",
              "<tr><td>https://www.linke...</td><td>[consultation, su...</td></tr>\n",
              "<tr><td>https://www.linke...</td><td>[veterinary recep...</td></tr>\n",
              "<tr><td>https://www.linke...</td><td>[optical inspecti...</td></tr>\n",
              "<tr><td>https://www.linke...</td><td>[hvac, troublesho...</td></tr>\n",
              "<tr><td>https://www.linke...</td><td>[host/server assi...</td></tr>\n",
              "<tr><td>https://www.linke...</td><td>[apartment mainte...</td></tr>\n",
              "<tr><td>https://www.linke...</td><td>[fiber optic cabl...</td></tr>\n",
              "<tr><td>https://www.linke...</td><td>[ct technologist,...</td></tr>\n",
              "<tr><td>https://ca.linked...</td><td>[sap, drmis, data...</td></tr>\n",
              "<tr><td>https://www.linke...</td><td>[debt and equity ...</td></tr>\n",
              "<tr><td>https://ca.linked...</td><td>[biomedical engin...</td></tr>\n",
              "<tr><td>https://www.linke...</td><td>[laboratory techn...</td></tr>\n",
              "<tr><td>https://www.linke...</td><td>[program manageme...</td></tr>\n",
              "<tr><td>https://www.linke...</td><td>[hiring, training...</td></tr>\n",
              "</table>\n",
              "only showing top 20 rows\n"
            ]
          },
          "metadata": {},
          "execution_count": 10
        }
      ]
    },
    {
      "cell_type": "markdown",
      "metadata": {
        "id": "ax7-fn4qGFFO"
      },
      "source": [
        "## **Sampling**"
      ]
    },
    {
      "cell_type": "code",
      "execution_count": null,
      "metadata": {
        "id": "oyecD4VcI-4M"
      },
      "outputs": [],
      "source": [
        "import pyspark.sql.functions as F\n",
        "\n",
        "split_ = df.sample(False,0.01,seed=42)\n",
        "#split = skills.sample(False,0.02,seed=42)"
      ]
    },
    {
      "cell_type": "code",
      "execution_count": null,
      "metadata": {
        "colab": {
          "base_uri": "https://localhost:8080/"
        },
        "id": "O8k-OzRZI_WA",
        "outputId": "9a5dae67-e403-4ac8-b636-5dcb355a1fbe"
      },
      "outputs": [
        {
          "output_type": "stream",
          "name": "stdout",
          "text": [
            "+--------------------+--------------------+\n",
            "|            job_link|          job_skills|\n",
            "+--------------------+--------------------+\n",
            "|https://www.linke...|[employee trainin...|\n",
            "|https://www.linke...|[aviation, englis...|\n",
            "|https://www.linke...|[electronic techn...|\n",
            "|https://ca.linked...|[warranty service...|\n",
            "|https://uk.linked...|[flight instructo...|\n",
            "|https://www.linke...|[project manageme...|\n",
            "|https://www.linke...|[basketball coach...|\n",
            "|https://www.linke...|[litigation, juri...|\n",
            "|https://www.linke...|[accounting, audi...|\n",
            "|https://www.linke...|[nursing, patient...|\n",
            "|https://uk.linked...|[commercial leade...|\n",
            "|https://www.linke...|[ob/gyn, epic emr...|\n",
            "|https://www.linke...|[guest service, c...|\n",
            "|https://www.linke...|[oracle, accounti...|\n",
            "|https://www.linke...|[accounting, audi...|\n",
            "|https://www.linke...|[scoping, buyout,...|\n",
            "|https://www.linke...|[mobile technicia...|\n",
            "|https://www.linke...|[travel planning ...|\n",
            "|https://ca.linked...|[computer enginee...|\n",
            "|https://www.linke...|[tax accounting, ...|\n",
            "+--------------------+--------------------+\n",
            "only showing top 20 rows\n",
            "\n"
          ]
        }
      ],
      "source": [
        "split_.show()"
      ]
    },
    {
      "cell_type": "code",
      "execution_count": null,
      "metadata": {
        "colab": {
          "base_uri": "https://localhost:8080/",
          "height": 156
        },
        "id": "msR7DucxJVbL",
        "outputId": "6d4232f9-e5d6-493c-95c3-4d8f30b5a218"
      },
      "outputs": [
        {
          "output_type": "execute_result",
          "data": {
            "text/plain": [
              "+-------+--------------------+\n",
              "|summary|            job_link|\n",
              "+-------+--------------------+\n",
              "|  count|               13057|\n",
              "|   mean|                null|\n",
              "| stddev|                null|\n",
              "|    min|https://au.linked...|\n",
              "|    max|https://www.linke...|\n",
              "+-------+--------------------+"
            ],
            "text/html": [
              "<table border='1'>\n",
              "<tr><th>summary</th><th>job_link</th></tr>\n",
              "<tr><td>count</td><td>13057</td></tr>\n",
              "<tr><td>mean</td><td>null</td></tr>\n",
              "<tr><td>stddev</td><td>null</td></tr>\n",
              "<tr><td>min</td><td>https://au.linked...</td></tr>\n",
              "<tr><td>max</td><td>https://www.linke...</td></tr>\n",
              "</table>\n"
            ]
          },
          "metadata": {},
          "execution_count": 13
        }
      ],
      "source": [
        "split_.describe()"
      ]
    },
    {
      "cell_type": "markdown",
      "metadata": {
        "id": "q7GtnwutKcwL"
      },
      "source": [
        "### Forming baskets"
      ]
    },
    {
      "cell_type": "code",
      "execution_count": null,
      "metadata": {
        "colab": {
          "base_uri": "https://localhost:8080/"
        },
        "id": "6vwOLpzPJVg8",
        "outputId": "d967be09-fda5-4c9e-b96f-85c2f3687102"
      },
      "outputs": [
        {
          "output_type": "execute_result",
          "data": {
            "text/plain": [
              "[Row(job_skills=['employee training', 'food safety', 'inventory management', 'team management', 'kitchen supervision', 'food quality control', 'food safety', 'cost control', 'menu management', 'hiring', 'staff scheduling', 'sales management', 'profit optimization', 'customer service', 'guest experience', 'service area organization', 'teamwork', 'hsd or ged', 'passion for helping and serving others', 'leadership experience', 'motivation', 'development of others', 'commitment to excellence', 'commitment to safety', 'strong customer service', 'support focus', 'effective communication', 'anticipating customer needs', 'problem solving', 'decisionmaking']),\n",
              " Row(job_skills=['aviation', 'english', 'faa commercial pilot license', 'ifr', 'sel', 'high performance', 'complex', 'second class medical', 'fcc restricted radiotelephone operator permit', 'current passport', \"valid driver's license\", '401k', 'medical', 'dental', 'vision', 'shortterm disability', 'longterm disability', 'life insurance', 'pilot medical reimbursement', 'pilot uniforms', 'jeppesen manuals', 'paid vacation', 'paid training', 'indoc', 'flight safety', 'aircraft specific training', 'inhouse checkride', 'company check pilot']),\n",
              " Row(job_skills=['electronic technician', 'troubleshooting', 'electromechanical', 'production', 'aftermarket repair', 'test equipment', 'schematics', 'engineering', 'manufacturing', 'calibration', 'measuring instruments', 'computer navigation', 'online documents', 'technical information', 'written communication', 'verbal communication', '3+ years related experience', 'lifting', 'carrying', 'pushing', 'pulling', 'hazardous materials', 'high school diploma or ged', '2year technical degree or certificate', 'military experience', 'team oriented environment', 'excellent attendance', 'error free products', 'meeting job requirements', 'overtime']),\n",
              " Row(job_skills=['warranty service', 'technical support', 'project management', 'assembly/disassembly', 'modification implementation', 'fleet configuration monitoring', 'quality standards', 'ehs compliance', 'tool management', 'technical specifications', 'electrical diagrams', 'railway experience', 'english proficiency', 'communication skills', 'customer focus', 'ethics and compliance', 'computer literacy', 'software proficiency']),\n",
              " Row(job_skills=['flight instructor', 'multiengine cpl and ir programme', 'da42 and da42 fnpt ii simulators', 'ato training manual', 'academy published schedule/programme', 'ato operations manual', 'uk partfcl licence', 'uk partmed medical certificate', 'sep (land)', 'night', 'cpl', 'instrument', 'mep (land)', 'icao level 6 english language proficiency', 'minimum of 500 hours flight time', 'minimum 200 hours instructional time', 'minimum 30 hours pilot in command mep (land)'])]"
            ]
          },
          "metadata": {},
          "execution_count": 14
        }
      ],
      "source": [
        "rdd = split_.select('job_skills').rdd\n",
        "rdd.take(5)"
      ]
    },
    {
      "cell_type": "code",
      "execution_count": null,
      "metadata": {
        "colab": {
          "base_uri": "https://localhost:8080/"
        },
        "id": "hmd6L6acKkps",
        "outputId": "b0a063b8-5937-4323-9697-b423a8f26e8b"
      },
      "outputs": [
        {
          "output_type": "execute_result",
          "data": {
            "text/plain": [
              "[['employee training',\n",
              "  'food safety',\n",
              "  'inventory management',\n",
              "  'team management',\n",
              "  'kitchen supervision',\n",
              "  'food quality control',\n",
              "  'food safety',\n",
              "  'cost control',\n",
              "  'menu management',\n",
              "  'hiring',\n",
              "  'staff scheduling',\n",
              "  'sales management',\n",
              "  'profit optimization',\n",
              "  'customer service',\n",
              "  'guest experience',\n",
              "  'service area organization',\n",
              "  'teamwork',\n",
              "  'hsd or ged',\n",
              "  'passion for helping and serving others',\n",
              "  'leadership experience',\n",
              "  'motivation',\n",
              "  'development of others',\n",
              "  'commitment to excellence',\n",
              "  'commitment to safety',\n",
              "  'strong customer service',\n",
              "  'support focus',\n",
              "  'effective communication',\n",
              "  'anticipating customer needs',\n",
              "  'problem solving',\n",
              "  'decisionmaking']]"
            ]
          },
          "metadata": {},
          "execution_count": 15
        }
      ],
      "source": [
        "rdd2 = rdd.map(lambda x: x['job_skills'])\n",
        "rdd2.take(1)"
      ]
    },
    {
      "cell_type": "code",
      "execution_count": null,
      "metadata": {
        "colab": {
          "base_uri": "https://localhost:8080/"
        },
        "id": "FKJTMjwNKnDY",
        "outputId": "e58f2cdb-5890-4adb-8f9b-3422a63537a4"
      },
      "outputs": [
        {
          "output_type": "execute_result",
          "data": {
            "text/plain": [
              "[['employee training',\n",
              "  'food safety',\n",
              "  'inventory management',\n",
              "  'team management',\n",
              "  'kitchen supervision',\n",
              "  'food quality control',\n",
              "  'food safety',\n",
              "  'cost control',\n",
              "  'menu management',\n",
              "  'hiring',\n",
              "  'staff scheduling',\n",
              "  'sales management',\n",
              "  'profit optimization',\n",
              "  'customer service',\n",
              "  'guest experience',\n",
              "  'service area organization',\n",
              "  'teamwork',\n",
              "  'hsd or ged',\n",
              "  'passion for helping and serving others',\n",
              "  'leadership experience',\n",
              "  'motivation',\n",
              "  'development of others',\n",
              "  'commitment to excellence',\n",
              "  'commitment to safety',\n",
              "  'strong customer service',\n",
              "  'support focus',\n",
              "  'effective communication',\n",
              "  'anticipating customer needs',\n",
              "  'problem solving',\n",
              "  'decisionmaking'],\n",
              " ['aviation',\n",
              "  'english',\n",
              "  'faa commercial pilot license',\n",
              "  'ifr',\n",
              "  'sel',\n",
              "  'high performance',\n",
              "  'complex',\n",
              "  'second class medical',\n",
              "  'fcc restricted radiotelephone operator permit',\n",
              "  'current passport',\n",
              "  \"valid driver's license\",\n",
              "  '401k',\n",
              "  'medical',\n",
              "  'dental',\n",
              "  'vision',\n",
              "  'shortterm disability',\n",
              "  'longterm disability',\n",
              "  'life insurance',\n",
              "  'pilot medical reimbursement',\n",
              "  'pilot uniforms',\n",
              "  'jeppesen manuals',\n",
              "  'paid vacation',\n",
              "  'paid training',\n",
              "  'indoc',\n",
              "  'flight safety',\n",
              "  'aircraft specific training',\n",
              "  'inhouse checkride',\n",
              "  'company check pilot'],\n",
              " ['electronic technician',\n",
              "  'troubleshooting',\n",
              "  'electromechanical',\n",
              "  'production',\n",
              "  'aftermarket repair',\n",
              "  'test equipment',\n",
              "  'schematics',\n",
              "  'engineering',\n",
              "  'manufacturing',\n",
              "  'calibration',\n",
              "  'measuring instruments',\n",
              "  'computer navigation',\n",
              "  'online documents',\n",
              "  'technical information',\n",
              "  'written communication',\n",
              "  'verbal communication',\n",
              "  '3+ years related experience',\n",
              "  'lifting',\n",
              "  'carrying',\n",
              "  'pushing',\n",
              "  'pulling',\n",
              "  'hazardous materials',\n",
              "  'high school diploma or ged',\n",
              "  '2year technical degree or certificate',\n",
              "  'military experience',\n",
              "  'team oriented environment',\n",
              "  'excellent attendance',\n",
              "  'error free products',\n",
              "  'meeting job requirements',\n",
              "  'overtime'],\n",
              " ['warranty service',\n",
              "  'technical support',\n",
              "  'project management',\n",
              "  'assembly/disassembly',\n",
              "  'modification implementation',\n",
              "  'fleet configuration monitoring',\n",
              "  'quality standards',\n",
              "  'ehs compliance',\n",
              "  'tool management',\n",
              "  'technical specifications',\n",
              "  'electrical diagrams',\n",
              "  'railway experience',\n",
              "  'english proficiency',\n",
              "  'communication skills',\n",
              "  'customer focus',\n",
              "  'ethics and compliance',\n",
              "  'computer literacy',\n",
              "  'software proficiency'],\n",
              " ['flight instructor',\n",
              "  'multiengine cpl and ir programme',\n",
              "  'da42 and da42 fnpt ii simulators',\n",
              "  'ato training manual',\n",
              "  'academy published schedule/programme',\n",
              "  'ato operations manual',\n",
              "  'uk partfcl licence',\n",
              "  'uk partmed medical certificate',\n",
              "  'sep (land)',\n",
              "  'night',\n",
              "  'cpl',\n",
              "  'instrument',\n",
              "  'mep (land)',\n",
              "  'icao level 6 english language proficiency',\n",
              "  'minimum of 500 hours flight time',\n",
              "  'minimum 200 hours instructional time',\n",
              "  'minimum 30 hours pilot in command mep (land)']]"
            ]
          },
          "metadata": {},
          "execution_count": 23
        }
      ],
      "source": [
        "baskets = rdd.map(lambda row: row['job_skills']).map(lambda skills: [skill.strip() for skill in skills])\n",
        "baskets.take(5)"
      ]
    },
    {
      "cell_type": "code",
      "source": [
        "baskets.count()"
      ],
      "metadata": {
        "id": "dOwOwuVhf3KK",
        "outputId": "c7793253-efcc-4488-e0ce-2556294c641c",
        "colab": {
          "base_uri": "https://localhost:8080/"
        }
      },
      "execution_count": null,
      "outputs": [
        {
          "output_type": "execute_result",
          "data": {
            "text/plain": [
              "13057"
            ]
          },
          "metadata": {},
          "execution_count": 24
        }
      ]
    },
    {
      "cell_type": "code",
      "execution_count": null,
      "metadata": {
        "id": "rfmKLIFoKnFp",
        "colab": {
          "base_uri": "https://localhost:8080/"
        },
        "outputId": "aab91db1-03f6-4ba1-9e80-1477976dbf0d"
      },
      "outputs": [
        {
          "output_type": "execute_result",
          "data": {
            "text/plain": [
              "20.7857854024661"
            ]
          },
          "metadata": {},
          "execution_count": 25
        }
      ],
      "source": [
        "lens = baskets.map(lambda x: len(x))\n",
        "lens.max()\n",
        "lens.mean()"
      ]
    },
    {
      "cell_type": "code",
      "execution_count": null,
      "metadata": {
        "colab": {
          "base_uri": "https://localhost:8080/"
        },
        "id": "-_OtlA2VKvOC",
        "outputId": "1bf1d4cc-5400-43ea-feea-cdeee0112ed1"
      },
      "outputs": [
        {
          "output_type": "execute_result",
          "data": {
            "text/plain": [
              "261"
            ]
          },
          "metadata": {},
          "execution_count": 26
        }
      ],
      "source": [
        "support = round((baskets.count())*0.02)\n",
        "support"
      ]
    },
    {
      "cell_type": "markdown",
      "metadata": {
        "id": "LrQHtjekK2AL"
      },
      "source": [
        "### Hash function\n",
        "\n"
      ]
    },
    {
      "cell_type": "code",
      "execution_count": null,
      "metadata": {
        "colab": {
          "base_uri": "https://localhost:8080/"
        },
        "id": "fmjIR-uVKnJB",
        "outputId": "d0ff2c92-bdee-4576-f833-fd714afbc185"
      },
      "outputs": [
        {
          "output_type": "execute_result",
          "data": {
            "text/plain": [
              "['employee training',\n",
              " 'food safety',\n",
              " 'inventory management',\n",
              " 'team management',\n",
              " 'kitchen supervision']"
            ]
          },
          "metadata": {},
          "execution_count": 27
        }
      ],
      "source": [
        "hash = baskets.flatMap(lambda line: line)\n",
        "hash.take(5)"
      ]
    },
    {
      "cell_type": "code",
      "execution_count": null,
      "metadata": {
        "colab": {
          "base_uri": "https://localhost:8080/"
        },
        "id": "kp_eSHOXLATx",
        "outputId": "4050c58f-f1d6-486e-f8d6-fe183f27301b"
      },
      "outputs": [
        {
          "output_type": "execute_result",
          "data": {
            "text/plain": [
              "271400"
            ]
          },
          "metadata": {},
          "execution_count": 28
        }
      ],
      "source": [
        "hash.count()"
      ]
    },
    {
      "cell_type": "code",
      "execution_count": null,
      "metadata": {
        "colab": {
          "base_uri": "https://localhost:8080/"
        },
        "id": "XZv4bNDnLCgy",
        "outputId": "c4372ba8-e829-460b-9812-dcc478269aab"
      },
      "outputs": [
        {
          "output_type": "execute_result",
          "data": {
            "text/plain": [
              "90309"
            ]
          },
          "metadata": {},
          "execution_count": 29
        }
      ],
      "source": [
        "hash = hash.distinct()\n",
        "cnt = hash.count()\n",
        "cnt"
      ]
    },
    {
      "cell_type": "code",
      "execution_count": null,
      "metadata": {
        "colab": {
          "base_uri": "https://localhost:8080/"
        },
        "id": "D_ioABQYLCkQ",
        "outputId": "6a151b80-1cff-424a-da3c-eae9637ec0bf"
      },
      "outputs": [
        {
          "output_type": "execute_result",
          "data": {
            "text/plain": [
              "[('employee training', 0),\n",
              " ('food quality control', 1),\n",
              " ('leadership experience', 2),\n",
              " ('strong customer service', 3),\n",
              " ('decisionmaking', 4)]"
            ]
          },
          "metadata": {},
          "execution_count": 30
        }
      ],
      "source": [
        "hash = hash.zipWithIndex()\n",
        "hash.take(5)"
      ]
    },
    {
      "cell_type": "code",
      "execution_count": null,
      "metadata": {
        "id": "nuEX1_BELIzs"
      },
      "outputs": [],
      "source": [
        "hash_index = hash.collectAsMap()\n"
      ]
    },
    {
      "cell_type": "code",
      "execution_count": null,
      "metadata": {
        "id": "27rFJe8fLMYW"
      },
      "outputs": [],
      "source": [
        "#representing the baskets via hash value\n",
        "def hashing(basket):\n",
        "    return {hash_index[skill] for skill in basket}\n",
        "\n",
        "baskets2 = baskets.map(hashing)"
      ]
    },
    {
      "cell_type": "code",
      "execution_count": null,
      "metadata": {
        "colab": {
          "base_uri": "https://localhost:8080/"
        },
        "id": "6-hdUMzqLMaV",
        "outputId": "e35b2b7e-fffd-4508-f089-11a6726dc878"
      },
      "outputs": [
        {
          "output_type": "execute_result",
          "data": {
            "text/plain": [
              "[{0,\n",
              "  1,\n",
              "  2,\n",
              "  3,\n",
              "  4,\n",
              "  15078,\n",
              "  15079,\n",
              "  15080,\n",
              "  15081,\n",
              "  30261,\n",
              "  30262,\n",
              "  30263,\n",
              "  30264,\n",
              "  30265,\n",
              "  30266,\n",
              "  45103,\n",
              "  45104,\n",
              "  45105,\n",
              "  45106,\n",
              "  45107,\n",
              "  45108,\n",
              "  45109,\n",
              "  60115,\n",
              "  60116,\n",
              "  60117,\n",
              "  60118,\n",
              "  75119,\n",
              "  75120,\n",
              "  75121},\n",
              " {5,\n",
              "  6,\n",
              "  7,\n",
              "  8,\n",
              "  15082,\n",
              "  15083,\n",
              "  30267,\n",
              "  30268,\n",
              "  30269,\n",
              "  30270,\n",
              "  45110,\n",
              "  45111,\n",
              "  45112,\n",
              "  45113,\n",
              "  45114,\n",
              "  45115,\n",
              "  45116,\n",
              "  60119,\n",
              "  60120,\n",
              "  60121,\n",
              "  75122,\n",
              "  75123,\n",
              "  75124,\n",
              "  75125,\n",
              "  75126,\n",
              "  75127,\n",
              "  75128,\n",
              "  75129},\n",
              " {9,\n",
              "  15084,\n",
              "  15085,\n",
              "  15086,\n",
              "  15087,\n",
              "  15088,\n",
              "  15089,\n",
              "  15090,\n",
              "  30271,\n",
              "  30272,\n",
              "  30273,\n",
              "  30274,\n",
              "  45117,\n",
              "  45118,\n",
              "  45119,\n",
              "  45120,\n",
              "  45121,\n",
              "  45122,\n",
              "  45123,\n",
              "  60122,\n",
              "  60123,\n",
              "  60124,\n",
              "  60125,\n",
              "  60126,\n",
              "  60127,\n",
              "  75130,\n",
              "  75131,\n",
              "  75132,\n",
              "  75133,\n",
              "  75134}]"
            ]
          },
          "metadata": {},
          "execution_count": 33
        }
      ],
      "source": [
        "baskets2.take(3)"
      ]
    },
    {
      "cell_type": "markdown",
      "metadata": {
        "id": "6_DjBIChLa43"
      },
      "source": [
        "# Apriori Algorithm Implementation"
      ]
    },
    {
      "cell_type": "code",
      "execution_count": null,
      "metadata": {
        "id": "xzb7tZ4ULMdv"
      },
      "outputs": [],
      "source": [
        "from itertools import combinations"
      ]
    },
    {
      "cell_type": "code",
      "source": [
        "def apriori_alg(baskets, support_threshold, item_map):\n",
        "\n",
        "    print(\"Frequent singletons\")\n",
        "\n",
        "    singletons = (baskets.flatMap(lambda basket: [(item, 1) for item in basket]).reduceByKey(lambda x, y: x + y).filter(lambda x: x[1] > support_threshold))\n",
        "\n",
        "    singletons_count = singletons.count()\n",
        "\n",
        "    if singletons_count == 0:\n",
        "        print(\"Threshold too high.\")\n",
        "        return\n",
        "\n",
        "    print(\"Number of frequent singletons:\", singletons_count)\n",
        "\n",
        "    most_frequent_singleton = singletons.max(lambda x: x[1])\n",
        "    max_singleton_item = list(item_map.keys())[list(item_map.values()).index(most_frequent_singleton[0])]\n",
        "    print(\"Most frequent one:\", max_singleton_item)\n",
        "\n",
        "    frequent_items = set(singletons.map(lambda x: (x[0],)).collect())\n",
        "\n",
        "    print()\n",
        "\n",
        "    k = 2\n",
        "\n",
        "    while True:\n",
        "        print(\"Sets of:\", k)\n",
        "\n",
        "        candidate_sets = (baskets.flatMap(lambda basket: [(combo, 1) for combo in combinations(sorted(basket), k) if all(subset in frequent_items for subset in combinations(combo, k - 1))]).reduceByKey(lambda x, y: x + y).filter(lambda x: x[1] > support_threshold))\n",
        "\n",
        "        candidate_count = candidate_sets.count()\n",
        "\n",
        "        if candidate_count != 0:\n",
        "            print(\"Frequent sets of\", k, \":\", candidate_count)\n",
        "\n",
        "            most_frequent_set = candidate_sets.max(lambda x: x[1])\n",
        "            most_frequent_items = [list(item_map.keys())[list(item_map.values()).index(skill)] for skill in most_frequent_set[0]]\n",
        "            print(\"Most frequent set of\", k, \":\", most_frequent_items)\n",
        "\n",
        "            frequent_items = set(candidate_sets.map(lambda x: x[0]).collect())\n",
        "\n",
        "            print()\n",
        "            k += 1\n",
        "\n",
        "        else:\n",
        "            print(\"No frequent sets of k\", k)\n",
        "            print(\"Stop here.\")\n",
        "            break"
      ],
      "metadata": {
        "id": "WjjQjAD1m5On"
      },
      "execution_count": null,
      "outputs": []
    },
    {
      "cell_type": "code",
      "source": [
        "apriori_alg(baskets2,support,hash_index)\n"
      ],
      "metadata": {
        "colab": {
          "base_uri": "https://localhost:8080/"
        },
        "id": "GF8i5KRHrCgI",
        "outputId": "0e17ae1a-9d84-4611-de66-3bdfa64be38c"
      },
      "execution_count": null,
      "outputs": [
        {
          "output_type": "stream",
          "name": "stdout",
          "text": [
            "Frequent singletons\n",
            "Number of frequent singletons: 81\n",
            "Most frequent one: communication\n",
            "\n",
            "Sets of: 2\n",
            "Frequent sets of 2 : 69\n",
            "Most frequent set of 2 : ['customer service', 'communication']\n",
            "\n",
            "Sets of: 3\n",
            "Frequent sets of 3 : 22\n",
            "Most frequent set of 3 : ['teamwork', 'customer service', 'communication']\n",
            "\n",
            "Sets of: 4\n",
            "No frequent sets of k 4\n",
            "Stop here.\n"
          ]
        }
      ]
    }
  ],
  "metadata": {
    "colab": {
      "provenance": [],
      "authorship_tag": "ABX9TyNfjPj+3AGjWTSIDvmugtjk",
      "include_colab_link": true
    },
    "kernelspec": {
      "display_name": "Python 3",
      "name": "python3"
    },
    "language_info": {
      "name": "python"
    }
  },
  "nbformat": 4,
  "nbformat_minor": 0
}